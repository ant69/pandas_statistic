{
 "cells": [
  {
   "cell_type": "markdown",
   "id": "0e8de812",
   "metadata": {},
   "source": [
    "# Домашнее задание «Визуализация данных»\n",
    "\n",
    "Обязательная часть\n",
    "Вам необходимо провести базовый EDA выбранного набора данных.\n",
    "\n",
    "### Требования к анализу:\n",
    "\n",
    "- построить не менее 4 визуализаций различных видов;\n",
    "- каждая визуализация должным образом оформлена и читается даже в отрыве от контекста;\n",
    "- по каждой визуализации необходимо написать вывод (какую гипотезу на ее основе можно выдвинуть?).\n",
    "\n",
    "### Дополнительная часть (необязательная)\n",
    "\n",
    "- построить дополнительно не менее 2 визуализаций (итого не менее 6);\n",
    "- в работе должны присутствовать следующие визуализации: boxplot, heatmap, scatter plot matrix;\n",
    "\n",
    "___\n",
    "## Для анализа выбран следующий источник данных\n",
    "\n",
    "#### Edx Courses\n",
    "\n",
    "A list of online courses on edx.org learning platform\n",
    "\n",
    "https://www.kaggle.com/imuhammad/edx-courses?select=edx_courses.csv"
   ]
  },
  {
   "cell_type": "code",
   "execution_count": 1,
   "id": "bfbc7843",
   "metadata": {},
   "outputs": [],
   "source": [
    "import pandas as pd\n",
    "import numpy as np"
   ]
  },
  {
   "cell_type": "code",
   "execution_count": null,
   "id": "cd88cfe0",
   "metadata": {},
   "outputs": [],
   "source": []
  }
 ],
 "metadata": {
  "kernelspec": {
   "display_name": "Python 3",
   "language": "python",
   "name": "python3"
  },
  "language_info": {
   "codemirror_mode": {
    "name": "ipython",
    "version": 3
   },
   "file_extension": ".py",
   "mimetype": "text/x-python",
   "name": "python",
   "nbconvert_exporter": "python",
   "pygments_lexer": "ipython3",
   "version": "3.8.8"
  }
 },
 "nbformat": 4,
 "nbformat_minor": 5
}
