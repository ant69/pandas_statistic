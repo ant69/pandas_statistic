{
 "cells": [
  {
   "cell_type": "markdown",
   "id": "da918710",
   "metadata": {},
   "source": [
    "# Домашнее задание «Визуализация данных»\n",
    "\n",
    "Обязательная часть\n",
    "Вам необходимо провести базовый EDA выбранного набора данных.\n",
    "(про разведочный анализ данных в Википедии: https://ru.wikipedia.org/wiki/%D0%A0%D0%B0%D0%B7%D0%B2%D0%B5%D0%B4%D0%BE%D1%87%D0%BD%D1%8B%D0%B9_%D0%B0%D0%BD%D0%B0%D0%BB%D0%B8%D0%B7_%D0%B4%D0%B0%D0%BD%D0%BD%D1%8B%D1%85)\n",
    "\n",
    "### Требования к анализу:\n",
    "\n",
    "- построить не менее 4 визуализаций различных видов;\n",
    "- каждая визуализация должным образом оформлена и читается даже в отрыве от контекста;\n",
    "- по каждой визуализации необходимо написать вывод (какую гипотезу на ее основе можно выдвинуть?).\n",
    "\n",
    "### Дополнительная часть (необязательная)\n",
    "\n",
    "- построить дополнительно не менее 2 визуализаций (итого не менее 6);\n",
    "- в работе должны присутствовать следующие визуализации: boxplot, heatmap, scatter plot matrix;\n",
    "\n",
    "___\n",
    "## Для анализа выбран следующий источник данных\n",
    "\n",
    "https://www.kaggle.com/imuhammad/edx-courses?select=edx_courses.csv\n",
    "\n",
    "#### Edx Courses\n",
    "\n",
    "A list of online courses on edx.org learning platform\n",
    "\n",
    "Согласно описанию датасет содержит следующие колонки:\n",
    "\n",
    "- title\t\t\t\tcharacter\tTitle of the course\n",
    "- summary\t\t\t\tcharacter\tA summary of the course\n",
    "- n_enrolled\t\t\tinteger\t\tNumber of student that have enrolled in the courses\n",
    "- course_type\t\t\tcharacter\tType of course\n",
    "- institution\t\t\tcharacter\tThe institution that created and provided the course\n",
    "- instructors\t\t\tcharacter\tName(s) of course instructors separated by '-'\n",
    "- Level\t\t\t\tcharacter\tDifficulty level\n",
    "- subject\t\t\t\tcharacter\tSubject of the course\n",
    "- language\t\t\tcharacter\tLanguage\n",
    "- subtitles\t\t\tcharacter\tAvailable Subtitle(s)\n",
    "- course_effort\t\tcharacter\tAn estimate of time and effort needed to complete the course\n",
    "- course_length\t\tcharacter\tlength of the course in weeks\n",
    "- price\t\t\t\tcharacter\t\n",
    "- course_description\tcharacter\tA description of the course\n",
    "- course_syllabus\t\tcharacter\tcourse syllabus\n",
    "- course_url\t\t\tcharacter\tcourse URL on edx.org\n"
   ]
  },
  {
   "cell_type": "code",
   "execution_count": 30,
   "id": "1bc80039",
   "metadata": {},
   "outputs": [],
   "source": [
    "import pandas as pd\n",
    "import numpy as np\n",
    "import matplotlib.pyplot as plt\n",
    "\n",
    "#увеличим дефолтный размер графиков\n",
    "# from pylab import rcParams\n",
    "# rcParams['figure.figsize'] = 11,7"
   ]
  },
  {
   "cell_type": "code",
   "execution_count": 21,
   "id": "c438b024",
   "metadata": {},
   "outputs": [
    {
     "data": {
      "text/html": [
       "<div>\n",
       "<style scoped>\n",
       "    .dataframe tbody tr th:only-of-type {\n",
       "        vertical-align: middle;\n",
       "    }\n",
       "\n",
       "    .dataframe tbody tr th {\n",
       "        vertical-align: top;\n",
       "    }\n",
       "\n",
       "    .dataframe thead th {\n",
       "        text-align: right;\n",
       "    }\n",
       "</style>\n",
       "<table border=\"1\" class=\"dataframe\">\n",
       "  <thead>\n",
       "    <tr style=\"text-align: right;\">\n",
       "      <th></th>\n",
       "      <th>title</th>\n",
       "      <th>summary</th>\n",
       "      <th>n_enrolled</th>\n",
       "      <th>course_type</th>\n",
       "      <th>institution</th>\n",
       "      <th>instructors</th>\n",
       "      <th>Level</th>\n",
       "      <th>subject</th>\n",
       "      <th>language</th>\n",
       "      <th>subtitles</th>\n",
       "      <th>course_effort</th>\n",
       "      <th>course_length</th>\n",
       "      <th>price</th>\n",
       "      <th>course_description</th>\n",
       "      <th>course_syllabus</th>\n",
       "      <th>course_url</th>\n",
       "    </tr>\n",
       "  </thead>\n",
       "  <tbody>\n",
       "    <tr>\n",
       "      <th>0</th>\n",
       "      <td>How to Learn Online</td>\n",
       "      <td>Learn essential strategies for successful onli...</td>\n",
       "      <td>124,980</td>\n",
       "      <td>Self-paced on your time</td>\n",
       "      <td>edX</td>\n",
       "      <td>Nina Huntemann-Robyn Belair-Ben Piscopo</td>\n",
       "      <td>Introductory</td>\n",
       "      <td>Education &amp; Teacher Training</td>\n",
       "      <td>English</td>\n",
       "      <td>English</td>\n",
       "      <td>2–3 hours per week</td>\n",
       "      <td>2 Weeks</td>\n",
       "      <td>FREE-Add a Verified Certificate for $49 USD</td>\n",
       "      <td>Designed for those who are new to elearning, t...</td>\n",
       "      <td>Welcome - We start with opportunities to meet ...</td>\n",
       "      <td>https://www.edx.org/course/how-to-learn-online</td>\n",
       "    </tr>\n",
       "    <tr>\n",
       "      <th>1</th>\n",
       "      <td>Programming for Everybody (Getting Started wit...</td>\n",
       "      <td>This course is a \"no prerequisite\" introductio...</td>\n",
       "      <td>293,864</td>\n",
       "      <td>Self-paced on your time</td>\n",
       "      <td>The University of Michigan</td>\n",
       "      <td>Charles Severance</td>\n",
       "      <td>Introductory</td>\n",
       "      <td>Computer Science</td>\n",
       "      <td>English</td>\n",
       "      <td>English</td>\n",
       "      <td>2–4 hours per week</td>\n",
       "      <td>7 Weeks</td>\n",
       "      <td>FREE-Add a Verified Certificate for $49 USD</td>\n",
       "      <td>This course aims to teach everyone the basics ...</td>\n",
       "      <td>NaN</td>\n",
       "      <td>https://www.edx.org/course/programming-for-eve...</td>\n",
       "    </tr>\n",
       "    <tr>\n",
       "      <th>2</th>\n",
       "      <td>CS50's Introduction to Computer Science</td>\n",
       "      <td>An introduction to the intellectual enterprise...</td>\n",
       "      <td>2,442,271</td>\n",
       "      <td>Self-paced on your time</td>\n",
       "      <td>Harvard University</td>\n",
       "      <td>David J. Malan-Doug Lloyd-Brian Yu</td>\n",
       "      <td>Introductory</td>\n",
       "      <td>Computer Science</td>\n",
       "      <td>English</td>\n",
       "      <td>English</td>\n",
       "      <td>6–18 hours per week</td>\n",
       "      <td>12 Weeks</td>\n",
       "      <td>FREE-Add a Verified Certificate for $90 USD</td>\n",
       "      <td>This is CS50x , Harvard University's introduct...</td>\n",
       "      <td>NaN</td>\n",
       "      <td>https://www.edx.org/course/cs50s-introduction-...</td>\n",
       "    </tr>\n",
       "    <tr>\n",
       "      <th>3</th>\n",
       "      <td>The Analytics Edge</td>\n",
       "      <td>Through inspiring examples and stories, discov...</td>\n",
       "      <td>129,555</td>\n",
       "      <td>Instructor-led on a course schedule</td>\n",
       "      <td>Massachusetts Institute of Technology</td>\n",
       "      <td>Dimitris Bertsimas-Allison O'Hair-John Silberh...</td>\n",
       "      <td>Intermediate</td>\n",
       "      <td>Data Analysis &amp; Statistics</td>\n",
       "      <td>English</td>\n",
       "      <td>English</td>\n",
       "      <td>10–15 hours per week</td>\n",
       "      <td>13 Weeks</td>\n",
       "      <td>FREE-Add a Verified Certificate for $199 USD</td>\n",
       "      <td>In the last decade, the amount of data availab...</td>\n",
       "      <td>NaN</td>\n",
       "      <td>https://www.edx.org/course/the-analytics-edge</td>\n",
       "    </tr>\n",
       "    <tr>\n",
       "      <th>4</th>\n",
       "      <td>Marketing Analytics: Marketing Measurement Str...</td>\n",
       "      <td>This course is part of a MicroMasters® Program</td>\n",
       "      <td>81,140</td>\n",
       "      <td>Self-paced on your time</td>\n",
       "      <td>University of California, Berkeley</td>\n",
       "      <td>Stephan Sorger</td>\n",
       "      <td>Introductory</td>\n",
       "      <td>Computer Science</td>\n",
       "      <td>English</td>\n",
       "      <td>English</td>\n",
       "      <td>5–7 hours per week</td>\n",
       "      <td>4 Weeks</td>\n",
       "      <td>FREE-Add a Verified Certificate for $249 USD</td>\n",
       "      <td>Begin your journey in a new career in marketin...</td>\n",
       "      <td>NaN</td>\n",
       "      <td>https://www.edx.org/course/marketing-analytics...</td>\n",
       "    </tr>\n",
       "  </tbody>\n",
       "</table>\n",
       "</div>"
      ],
      "text/plain": [
       "                                               title  \\\n",
       "0                                How to Learn Online   \n",
       "1  Programming for Everybody (Getting Started wit...   \n",
       "2            CS50's Introduction to Computer Science   \n",
       "3                                 The Analytics Edge   \n",
       "4  Marketing Analytics: Marketing Measurement Str...   \n",
       "\n",
       "                                             summary n_enrolled  \\\n",
       "0  Learn essential strategies for successful onli...    124,980   \n",
       "1  This course is a \"no prerequisite\" introductio...    293,864   \n",
       "2  An introduction to the intellectual enterprise...  2,442,271   \n",
       "3  Through inspiring examples and stories, discov...    129,555   \n",
       "4     This course is part of a MicroMasters® Program     81,140   \n",
       "\n",
       "                           course_type                            institution  \\\n",
       "0              Self-paced on your time                                    edX   \n",
       "1              Self-paced on your time             The University of Michigan   \n",
       "2              Self-paced on your time                     Harvard University   \n",
       "3  Instructor-led on a course schedule  Massachusetts Institute of Technology   \n",
       "4              Self-paced on your time     University of California, Berkeley   \n",
       "\n",
       "                                         instructors         Level  \\\n",
       "0            Nina Huntemann-Robyn Belair-Ben Piscopo  Introductory   \n",
       "1                                  Charles Severance  Introductory   \n",
       "2                 David J. Malan-Doug Lloyd-Brian Yu  Introductory   \n",
       "3  Dimitris Bertsimas-Allison O'Hair-John Silberh...  Intermediate   \n",
       "4                                     Stephan Sorger  Introductory   \n",
       "\n",
       "                        subject language subtitles         course_effort  \\\n",
       "0  Education & Teacher Training  English   English    2–3 hours per week   \n",
       "1              Computer Science  English   English    2–4 hours per week   \n",
       "2              Computer Science  English   English   6–18 hours per week   \n",
       "3    Data Analysis & Statistics  English   English  10–15 hours per week   \n",
       "4              Computer Science  English   English    5–7 hours per week   \n",
       "\n",
       "  course_length                                         price  \\\n",
       "0       2 Weeks   FREE-Add a Verified Certificate for $49 USD   \n",
       "1       7 Weeks   FREE-Add a Verified Certificate for $49 USD   \n",
       "2      12 Weeks   FREE-Add a Verified Certificate for $90 USD   \n",
       "3      13 Weeks  FREE-Add a Verified Certificate for $199 USD   \n",
       "4       4 Weeks  FREE-Add a Verified Certificate for $249 USD   \n",
       "\n",
       "                                  course_description  \\\n",
       "0  Designed for those who are new to elearning, t...   \n",
       "1  This course aims to teach everyone the basics ...   \n",
       "2  This is CS50x , Harvard University's introduct...   \n",
       "3  In the last decade, the amount of data availab...   \n",
       "4  Begin your journey in a new career in marketin...   \n",
       "\n",
       "                                     course_syllabus  \\\n",
       "0  Welcome - We start with opportunities to meet ...   \n",
       "1                                                NaN   \n",
       "2                                                NaN   \n",
       "3                                                NaN   \n",
       "4                                                NaN   \n",
       "\n",
       "                                          course_url  \n",
       "0     https://www.edx.org/course/how-to-learn-online  \n",
       "1  https://www.edx.org/course/programming-for-eve...  \n",
       "2  https://www.edx.org/course/cs50s-introduction-...  \n",
       "3      https://www.edx.org/course/the-analytics-edge  \n",
       "4  https://www.edx.org/course/marketing-analytics...  "
      ]
     },
     "execution_count": 21,
     "metadata": {},
     "output_type": "execute_result"
    }
   ],
   "source": [
    "# Читаем файл и анализируем набор его столбцов\n",
    "df = pd.read_csv('https://raw.githubusercontent.com/ant69/pandas_statistic/main/edx_courses.csv')\n",
    "df.head()"
   ]
  },
  {
   "cell_type": "code",
   "execution_count": null,
   "id": "15382372",
   "metadata": {},
   "outputs": [],
   "source": []
  },
  {
   "cell_type": "code",
   "execution_count": 11,
   "id": "819113ba",
   "metadata": {},
   "outputs": [
    {
     "name": "stdout",
     "output_type": "stream",
     "text": [
      "<class 'pandas.core.frame.DataFrame'>\n",
      "RangeIndex: 975 entries, 0 to 974\n",
      "Data columns (total 16 columns):\n",
      " #   Column              Non-Null Count  Dtype \n",
      "---  ------              --------------  ----- \n",
      " 0   title               975 non-null    object\n",
      " 1   summary             922 non-null    object\n",
      " 2   n_enrolled          855 non-null    object\n",
      " 3   course_type         975 non-null    object\n",
      " 4   institution         975 non-null    object\n",
      " 5   instructors         972 non-null    object\n",
      " 6   Level               975 non-null    object\n",
      " 7   subject             975 non-null    object\n",
      " 8   language            975 non-null    object\n",
      " 9   subtitles           972 non-null    object\n",
      " 10  course_effort       975 non-null    object\n",
      " 11  course_length       975 non-null    object\n",
      " 12  price               975 non-null    object\n",
      " 13  course_description  935 non-null    object\n",
      " 14  course_syllabus     417 non-null    object\n",
      " 15  course_url          975 non-null    object\n",
      "dtypes: object(16)\n",
      "memory usage: 122.0+ KB\n"
     ]
    }
   ],
   "source": [
    "# смотрим типы данных в датасете\n",
    "df.info()"
   ]
  },
  {
   "cell_type": "code",
   "execution_count": null,
   "id": "d18c9292",
   "metadata": {},
   "outputs": [],
   "source": []
  },
  {
   "cell_type": "code",
   "execution_count": 12,
   "id": "403a62c5",
   "metadata": {},
   "outputs": [
    {
     "data": {
      "text/html": [
       "<div>\n",
       "<style scoped>\n",
       "    .dataframe tbody tr th:only-of-type {\n",
       "        vertical-align: middle;\n",
       "    }\n",
       "\n",
       "    .dataframe tbody tr th {\n",
       "        vertical-align: top;\n",
       "    }\n",
       "\n",
       "    .dataframe thead th {\n",
       "        text-align: right;\n",
       "    }\n",
       "</style>\n",
       "<table border=\"1\" class=\"dataframe\">\n",
       "  <thead>\n",
       "    <tr style=\"text-align: right;\">\n",
       "      <th></th>\n",
       "      <th>title</th>\n",
       "      <th>summary</th>\n",
       "      <th>n_enrolled</th>\n",
       "      <th>course_type</th>\n",
       "      <th>institution</th>\n",
       "      <th>instructors</th>\n",
       "      <th>Level</th>\n",
       "      <th>subject</th>\n",
       "      <th>language</th>\n",
       "      <th>subtitles</th>\n",
       "      <th>course_effort</th>\n",
       "      <th>course_length</th>\n",
       "      <th>price</th>\n",
       "      <th>course_description</th>\n",
       "      <th>course_syllabus</th>\n",
       "      <th>course_url</th>\n",
       "    </tr>\n",
       "  </thead>\n",
       "  <tbody>\n",
       "    <tr>\n",
       "      <th>count</th>\n",
       "      <td>975</td>\n",
       "      <td>922</td>\n",
       "      <td>855</td>\n",
       "      <td>975</td>\n",
       "      <td>975</td>\n",
       "      <td>972</td>\n",
       "      <td>975</td>\n",
       "      <td>975</td>\n",
       "      <td>975</td>\n",
       "      <td>972</td>\n",
       "      <td>975</td>\n",
       "      <td>975</td>\n",
       "      <td>975</td>\n",
       "      <td>935</td>\n",
       "      <td>417</td>\n",
       "      <td>975</td>\n",
       "    </tr>\n",
       "    <tr>\n",
       "      <th>unique</th>\n",
       "      <td>972</td>\n",
       "      <td>887</td>\n",
       "      <td>849</td>\n",
       "      <td>2</td>\n",
       "      <td>111</td>\n",
       "      <td>775</td>\n",
       "      <td>3</td>\n",
       "      <td>31</td>\n",
       "      <td>9</td>\n",
       "      <td>33</td>\n",
       "      <td>53</td>\n",
       "      <td>18</td>\n",
       "      <td>47</td>\n",
       "      <td>932</td>\n",
       "      <td>412</td>\n",
       "      <td>974</td>\n",
       "    </tr>\n",
       "    <tr>\n",
       "      <th>top</th>\n",
       "      <td>Introduction to Probability</td>\n",
       "      <td>This course is part of a MicroMasters® Program</td>\n",
       "      <td>5,473</td>\n",
       "      <td>Self-paced on your time</td>\n",
       "      <td>Harvard University</td>\n",
       "      <td>Rafael Irizarry</td>\n",
       "      <td>Introductory</td>\n",
       "      <td>Computer Science</td>\n",
       "      <td>English</td>\n",
       "      <td>English</td>\n",
       "      <td>2–4 hours per week</td>\n",
       "      <td>4 Weeks</td>\n",
       "      <td>FREE-Add a Verified Certificate for $49 USD</td>\n",
       "      <td>About the Database Series of Courses\"Databases...</td>\n",
       "      <td>None</td>\n",
       "      <td>https://www.edx.org/course/introduction-to-pro...</td>\n",
       "    </tr>\n",
       "    <tr>\n",
       "      <th>freq</th>\n",
       "      <td>2</td>\n",
       "      <td>15</td>\n",
       "      <td>2</td>\n",
       "      <td>917</td>\n",
       "      <td>104</td>\n",
       "      <td>9</td>\n",
       "      <td>621</td>\n",
       "      <td>166</td>\n",
       "      <td>777</td>\n",
       "      <td>713</td>\n",
       "      <td>108</td>\n",
       "      <td>194</td>\n",
       "      <td>270</td>\n",
       "      <td>3</td>\n",
       "      <td>3</td>\n",
       "      <td>2</td>\n",
       "    </tr>\n",
       "  </tbody>\n",
       "</table>\n",
       "</div>"
      ],
      "text/plain": [
       "                              title  \\\n",
       "count                           975   \n",
       "unique                          972   \n",
       "top     Introduction to Probability   \n",
       "freq                              2   \n",
       "\n",
       "                                               summary n_enrolled  \\\n",
       "count                                              922        855   \n",
       "unique                                             887        849   \n",
       "top     This course is part of a MicroMasters® Program      5,473   \n",
       "freq                                                15          2   \n",
       "\n",
       "                    course_type         institution      instructors  \\\n",
       "count                       975                 975              972   \n",
       "unique                        2                 111              775   \n",
       "top     Self-paced on your time  Harvard University  Rafael Irizarry   \n",
       "freq                        917                 104                9   \n",
       "\n",
       "               Level           subject language subtitles       course_effort  \\\n",
       "count            975               975      975       972                 975   \n",
       "unique             3                31        9        33                  53   \n",
       "top     Introductory  Computer Science  English   English  2–4 hours per week   \n",
       "freq             621               166      777       713                 108   \n",
       "\n",
       "       course_length                                        price  \\\n",
       "count            975                                          975   \n",
       "unique            18                                           47   \n",
       "top          4 Weeks  FREE-Add a Verified Certificate for $49 USD   \n",
       "freq             194                                          270   \n",
       "\n",
       "                                       course_description course_syllabus  \\\n",
       "count                                                 935             417   \n",
       "unique                                                932             412   \n",
       "top     About the Database Series of Courses\"Databases...            None   \n",
       "freq                                                    3               3   \n",
       "\n",
       "                                               course_url  \n",
       "count                                                 975  \n",
       "unique                                                974  \n",
       "top     https://www.edx.org/course/introduction-to-pro...  \n",
       "freq                                                    2  "
      ]
     },
     "execution_count": 12,
     "metadata": {},
     "output_type": "execute_result"
    }
   ],
   "source": [
    "df.describe()"
   ]
  },
  {
   "cell_type": "code",
   "execution_count": 53,
   "id": "b85da880",
   "metadata": {},
   "outputs": [
    {
     "data": {
      "text/html": [
       "<div>\n",
       "<style scoped>\n",
       "    .dataframe tbody tr th:only-of-type {\n",
       "        vertical-align: middle;\n",
       "    }\n",
       "\n",
       "    .dataframe tbody tr th {\n",
       "        vertical-align: top;\n",
       "    }\n",
       "\n",
       "    .dataframe thead th {\n",
       "        text-align: right;\n",
       "    }\n",
       "</style>\n",
       "<table border=\"1\" class=\"dataframe\">\n",
       "  <thead>\n",
       "    <tr style=\"text-align: right;\">\n",
       "      <th></th>\n",
       "      <th>title</th>\n",
       "      <th>n_enrolled</th>\n",
       "      <th>course_type</th>\n",
       "      <th>institution</th>\n",
       "      <th>Level</th>\n",
       "      <th>subject</th>\n",
       "      <th>language</th>\n",
       "      <th>course_effort</th>\n",
       "      <th>course_length</th>\n",
       "      <th>price</th>\n",
       "    </tr>\n",
       "  </thead>\n",
       "  <tbody>\n",
       "    <tr>\n",
       "      <th>0</th>\n",
       "      <td>How to Learn Online</td>\n",
       "      <td>124980.0</td>\n",
       "      <td>Self-paced on your time</td>\n",
       "      <td>edX</td>\n",
       "      <td>Introductory</td>\n",
       "      <td>Education &amp; Teacher Training</td>\n",
       "      <td>English</td>\n",
       "      <td>2–3 hours per week</td>\n",
       "      <td>2 Weeks</td>\n",
       "      <td>FREE-Add a Verified Certificate for $49 USD</td>\n",
       "    </tr>\n",
       "    <tr>\n",
       "      <th>1</th>\n",
       "      <td>Programming for Everybody (Getting Started wit...</td>\n",
       "      <td>293864.0</td>\n",
       "      <td>Self-paced on your time</td>\n",
       "      <td>The University of Michigan</td>\n",
       "      <td>Introductory</td>\n",
       "      <td>Computer Science</td>\n",
       "      <td>English</td>\n",
       "      <td>2–4 hours per week</td>\n",
       "      <td>7 Weeks</td>\n",
       "      <td>FREE-Add a Verified Certificate for $49 USD</td>\n",
       "    </tr>\n",
       "    <tr>\n",
       "      <th>2</th>\n",
       "      <td>CS50's Introduction to Computer Science</td>\n",
       "      <td>2442271.0</td>\n",
       "      <td>Self-paced on your time</td>\n",
       "      <td>Harvard University</td>\n",
       "      <td>Introductory</td>\n",
       "      <td>Computer Science</td>\n",
       "      <td>English</td>\n",
       "      <td>6–18 hours per week</td>\n",
       "      <td>12 Weeks</td>\n",
       "      <td>FREE-Add a Verified Certificate for $90 USD</td>\n",
       "    </tr>\n",
       "    <tr>\n",
       "      <th>3</th>\n",
       "      <td>The Analytics Edge</td>\n",
       "      <td>129555.0</td>\n",
       "      <td>Instructor-led on a course schedule</td>\n",
       "      <td>Massachusetts Institute of Technology</td>\n",
       "      <td>Intermediate</td>\n",
       "      <td>Data Analysis &amp; Statistics</td>\n",
       "      <td>English</td>\n",
       "      <td>10–15 hours per week</td>\n",
       "      <td>13 Weeks</td>\n",
       "      <td>FREE-Add a Verified Certificate for $199 USD</td>\n",
       "    </tr>\n",
       "    <tr>\n",
       "      <th>4</th>\n",
       "      <td>Marketing Analytics: Marketing Measurement Str...</td>\n",
       "      <td>81140.0</td>\n",
       "      <td>Self-paced on your time</td>\n",
       "      <td>University of California, Berkeley</td>\n",
       "      <td>Introductory</td>\n",
       "      <td>Computer Science</td>\n",
       "      <td>English</td>\n",
       "      <td>5–7 hours per week</td>\n",
       "      <td>4 Weeks</td>\n",
       "      <td>FREE-Add a Verified Certificate for $249 USD</td>\n",
       "    </tr>\n",
       "  </tbody>\n",
       "</table>\n",
       "</div>"
      ],
      "text/plain": [
       "                                               title  n_enrolled  \\\n",
       "0                                How to Learn Online    124980.0   \n",
       "1  Programming for Everybody (Getting Started wit...    293864.0   \n",
       "2            CS50's Introduction to Computer Science   2442271.0   \n",
       "3                                 The Analytics Edge    129555.0   \n",
       "4  Marketing Analytics: Marketing Measurement Str...     81140.0   \n",
       "\n",
       "                           course_type                            institution  \\\n",
       "0              Self-paced on your time                                    edX   \n",
       "1              Self-paced on your time             The University of Michigan   \n",
       "2              Self-paced on your time                     Harvard University   \n",
       "3  Instructor-led on a course schedule  Massachusetts Institute of Technology   \n",
       "4              Self-paced on your time     University of California, Berkeley   \n",
       "\n",
       "          Level                       subject language         course_effort  \\\n",
       "0  Introductory  Education & Teacher Training  English    2–3 hours per week   \n",
       "1  Introductory              Computer Science  English    2–4 hours per week   \n",
       "2  Introductory              Computer Science  English   6–18 hours per week   \n",
       "3  Intermediate    Data Analysis & Statistics  English  10–15 hours per week   \n",
       "4  Introductory              Computer Science  English    5–7 hours per week   \n",
       "\n",
       "  course_length                                         price  \n",
       "0       2 Weeks   FREE-Add a Verified Certificate for $49 USD  \n",
       "1       7 Weeks   FREE-Add a Verified Certificate for $49 USD  \n",
       "2      12 Weeks   FREE-Add a Verified Certificate for $90 USD  \n",
       "3      13 Weeks  FREE-Add a Verified Certificate for $199 USD  \n",
       "4       4 Weeks  FREE-Add a Verified Certificate for $249 USD  "
      ]
     },
     "execution_count": 53,
     "metadata": {},
     "output_type": "execute_result"
    }
   ],
   "source": [
    "# Часть столбцов в этом датасете малоинтересна с точки зрения статистического анализа, их можно без ущерба для анализа исключить\n",
    "# (если не брать в расчет анализ отдельных слов)\n",
    "# Часть столбцов может быть преобразована в количественные или качественные типы, что позволит их проанализировать.\n",
    "# Несколько столбцов имеют пропуски\n",
    "# Оставляем следующие столбцы:\n",
    "# title               975 \n",
    "# n_enrolled          855 \n",
    "# course_type         975 \n",
    "# institution         975 \n",
    "# Level               975 \n",
    "# subject             975 \n",
    "# language            975 \n",
    "# course_effort       975 \n",
    "# course_length       975 \n",
    "# price               975 \n",
    "# Из оставляемых столбцов пропуски имеет только столбец n_enrolled\n",
    "cdf = df[['title', 'n_enrolled', 'course_type', 'institution', 'Level', 'subject', \n",
    "         'language', 'course_effort', 'course_length', 'price']].copy()\n",
    "cdf['n_enrolled'] = cdf['n_enrolled'].str.replace(',','').astype(float)\n",
    "\n",
    "cdf.head()"
   ]
  },
  {
   "cell_type": "code",
   "execution_count": 47,
   "id": "bc82a060",
   "metadata": {},
   "outputs": [
    {
     "data": {
      "text/plain": [
       "array(['Self-paced on your time', 'Instructor-led on a course schedule'],\n",
       "      dtype=object)"
      ]
     },
     "execution_count": 47,
     "metadata": {},
     "output_type": "execute_result"
    }
   ],
   "source": [
    "# Анализируем столбец Тип курса (course_type):\n",
    "cdf['course_type'].unique()\n",
    "# Видим, что все курсы относятся к одному из двух типов: самостоятельное изучение и изучение с поддержкой инструктора"
   ]
  },
  {
   "cell_type": "code",
   "execution_count": 52,
   "id": "798b9ce4",
   "metadata": {},
   "outputs": [
    {
     "name": "stdout",
     "output_type": "stream",
     "text": [
      "count                    975\n",
      "unique                   111\n",
      "top       Harvard University\n",
      "freq                     104\n",
      "Name: institution, dtype: object\n"
     ]
    },
    {
     "data": {
      "text/html": [
       "<div>\n",
       "<style scoped>\n",
       "    .dataframe tbody tr th:only-of-type {\n",
       "        vertical-align: middle;\n",
       "    }\n",
       "\n",
       "    .dataframe tbody tr th {\n",
       "        vertical-align: top;\n",
       "    }\n",
       "\n",
       "    .dataframe thead th {\n",
       "        text-align: right;\n",
       "    }\n",
       "</style>\n",
       "<table border=\"1\" class=\"dataframe\">\n",
       "  <thead>\n",
       "    <tr style=\"text-align: right;\">\n",
       "      <th></th>\n",
       "      <th>title</th>\n",
       "    </tr>\n",
       "    <tr>\n",
       "      <th>institution</th>\n",
       "      <th></th>\n",
       "    </tr>\n",
       "  </thead>\n",
       "  <tbody>\n",
       "    <tr>\n",
       "      <th>Harvard University</th>\n",
       "      <td>104</td>\n",
       "    </tr>\n",
       "    <tr>\n",
       "      <th>Universitat Politècnica de Valencia</th>\n",
       "      <td>47</td>\n",
       "    </tr>\n",
       "    <tr>\n",
       "      <th>Massachusetts Institute of Technology</th>\n",
       "      <td>41</td>\n",
       "    </tr>\n",
       "    <tr>\n",
       "      <th>Delft University of Technology</th>\n",
       "      <td>30</td>\n",
       "    </tr>\n",
       "    <tr>\n",
       "      <th>IBM</th>\n",
       "      <td>30</td>\n",
       "    </tr>\n",
       "    <tr>\n",
       "      <th>...</th>\n",
       "      <td>...</td>\n",
       "    </tr>\n",
       "    <tr>\n",
       "      <th>University System of Maryland-The University of Maryland, College Park</th>\n",
       "      <td>1</td>\n",
       "    </tr>\n",
       "    <tr>\n",
       "      <th>The University of Tokyo</th>\n",
       "      <td>1</td>\n",
       "    </tr>\n",
       "    <tr>\n",
       "      <th>DelftXRWTHx-Delft University of Technology-RWTH Aachen University</th>\n",
       "      <td>1</td>\n",
       "    </tr>\n",
       "    <tr>\n",
       "      <th>Educational Testing Service</th>\n",
       "      <td>1</td>\n",
       "    </tr>\n",
       "    <tr>\n",
       "      <th>University of Oxford</th>\n",
       "      <td>1</td>\n",
       "    </tr>\n",
       "  </tbody>\n",
       "</table>\n",
       "<p>111 rows × 1 columns</p>\n",
       "</div>"
      ],
      "text/plain": [
       "                                                    title\n",
       "institution                                              \n",
       "Harvard University                                    104\n",
       "Universitat Politècnica de Valencia                    47\n",
       "Massachusetts Institute of Technology                  41\n",
       "Delft University of Technology                         30\n",
       "IBM                                                    30\n",
       "...                                                   ...\n",
       "University System of Maryland-The University of...      1\n",
       "The University of Tokyo                                 1\n",
       "DelftXRWTHx-Delft University of Technology-RWTH...      1\n",
       "Educational Testing Service                             1\n",
       "University of Oxford                                    1\n",
       "\n",
       "[111 rows x 1 columns]"
      ]
     },
     "execution_count": 52,
     "metadata": {},
     "output_type": "execute_result"
    }
   ],
   "source": [
    "# Анализируем столбец Обучающая организация (institution)\n",
    "print(cdf['institution'].describe())\n",
    "cdf.groupby(['institution'])[['title']].count().sort_values(by='title', ascending=False)\n",
    "# Видим 111 уникальных организаций и видим лидера по количеству курсов (Harvard Univercity)"
   ]
  },
  {
   "cell_type": "code",
   "execution_count": 57,
   "id": "5fbf6290",
   "metadata": {},
   "outputs": [
    {
     "name": "stdout",
     "output_type": "stream",
     "text": [
      "count              975\n",
      "unique               3\n",
      "top       Introductory\n",
      "freq               621\n",
      "Name: Level, dtype: object\n"
     ]
    },
    {
     "data": {
      "text/plain": [
       "array(['Introductory', 'Intermediate', 'Advanced'], dtype=object)"
      ]
     },
     "execution_count": 57,
     "metadata": {},
     "output_type": "execute_result"
    }
   ],
   "source": [
    "# Анализируем столбец Уровень обучения (Level):\n",
    "print(cdf['Level'].describe())\n",
    "cdf['Level'].unique()\n",
    "# Видим, что все курсы делятся на вводные, для продолжающих и углубленные, и вводных - большинство"
   ]
  },
  {
   "cell_type": "code",
   "execution_count": 58,
   "id": "fc6d328e",
   "metadata": {},
   "outputs": [
    {
     "name": "stdout",
     "output_type": "stream",
     "text": [
      "count                  975\n",
      "unique                  31\n",
      "top       Computer Science\n",
      "freq                   166\n",
      "Name: subject, dtype: object\n"
     ]
    },
    {
     "data": {
      "text/plain": [
       "array(['Education & Teacher Training', 'Computer Science',\n",
       "       'Data Analysis & Statistics', 'Business & Management',\n",
       "       'Communication', 'Health & Safety', 'Math', 'Humanities', 'Ethics',\n",
       "       'Economics & Finance', 'Food & Nutrition',\n",
       "       'Biology & Life Sciences', 'Social Sciences', 'Architecture',\n",
       "       'Medicine', 'Environmental Studies', 'Chemistry', 'Art & Culture',\n",
       "       'Language', 'Engineering', 'Philosophy & Ethics', 'Electronics',\n",
       "       'History', 'Literature', 'Physics', 'Law', 'Design', 'Science',\n",
       "       'Music', 'Energy & Earth Sciences', 'Philanthropy'], dtype=object)"
      ]
     },
     "execution_count": 58,
     "metadata": {},
     "output_type": "execute_result"
    }
   ],
   "source": [
    "# Анализируем столбец Предмет (Subject):\n",
    "print(cdf['subject'].describe())\n",
    "cdf['subject'].unique()\n",
    "# Видим, что у нас 31 направление обучения, больше 17 процентов из которых - Computer Science"
   ]
  },
  {
   "cell_type": "code",
   "execution_count": 59,
   "id": "ced8e695",
   "metadata": {},
   "outputs": [
    {
     "name": "stdout",
     "output_type": "stream",
     "text": [
      "count         975\n",
      "unique          9\n",
      "top       English\n",
      "freq          777\n",
      "Name: language, dtype: object\n"
     ]
    },
    {
     "data": {
      "text/plain": [
       "array(['English', 'Español', 'Italiano', '日本語', 'Français', '中文',\n",
       "       'Português', 'اللغة العربية', 'Deutsch'], dtype=object)"
      ]
     },
     "execution_count": 59,
     "metadata": {},
     "output_type": "execute_result"
    }
   ],
   "source": [
    "# Анализируем столбец Язык (language):\n",
    "print(cdf['language'].describe())\n",
    "cdf['language'].unique()\n",
    "# Видим, что обучение на 975 курсах осуществляется на 9 языках, из которых ожидаемо самым популярным оказывается английский"
   ]
  },
  {
   "cell_type": "code",
   "execution_count": 60,
   "id": "5c48e34c",
   "metadata": {},
   "outputs": [
    {
     "name": "stdout",
     "output_type": "stream",
     "text": [
      "count                    975\n",
      "unique                    53\n",
      "top       2–4 hours per week\n",
      "freq                     108\n",
      "Name: course_effort, dtype: object\n"
     ]
    },
    {
     "data": {
      "text/plain": [
       "array(['2–3 hours per week', '2–4 hours per week', '6–18 hours per week',\n",
       "       '10–15 hours per week', '5–7 hours per week',\n",
       "       '8–10 hours per week', '1–3 hours per week', '3–4 hours per week',\n",
       "       '3–5 hours per week', '2–6 hours per week', '1–2 hours per week',\n",
       "       '2–5 hours per week', '4–6 hours per week', '10–30 hours per week',\n",
       "       '6–9 hours per week', '3–6 hours per week', '5–10 hours per week',\n",
       "       '4–5 hours per week', '5–8 hours per week', '5–6 hours per week',\n",
       "       '9–10 hours per week', '4–8 hours per week',\n",
       "       '15–20 hours per week', '6–8 hours per week',\n",
       "       '10–14 hours per week', '10–20 hours per week',\n",
       "       '8–12 hours per week', '4–10 hours per week',\n",
       "       '10–12 hours per week', '7–10 hours per week',\n",
       "       '3–7 hours per week', '1–4 hours per week', '6–10 hours per week',\n",
       "       '1–5 hours per week', '8–9 hours per week', '6–12 hours per week',\n",
       "       '3–8 hours per week', '1–10 hours per week',\n",
       "       '10–18 hours per week', '4–12 hours per week',\n",
       "       '7–14 hours per week', '7–9 hours per week',\n",
       "       '10–11 hours per week', '16–24 hours per week',\n",
       "       '4–7 hours per week', '2–10 hours per week',\n",
       "       '11–13 hours per week', '18–20 hours per week',\n",
       "       '12–16 hours per week', '9–12 hours per week',\n",
       "       '20–28 hours per week', '7–8 hours per week',\n",
       "       '12–20 hours per week'], dtype=object)"
      ]
     },
     "execution_count": 60,
     "metadata": {},
     "output_type": "execute_result"
    }
   ],
   "source": [
    "# Анализируем столбец Усилия на освоение (course_effort):\n",
    "print(cdf['course_effort'].describe())\n",
    "cdf['course_effort'].unique()\n",
    "# Видим, что все курсы делятся на вводные, для продолжающих и углубленные, и вводных - большинство"
   ]
  },
  {
   "cell_type": "code",
   "execution_count": 64,
   "id": "6b5d01a6",
   "metadata": {},
   "outputs": [
    {
     "name": "stdout",
     "output_type": "stream",
     "text": [
      "[ 2.5  3.  12.  12.5  6.   9.   2.   3.5  4.   1.5  5.  20.   7.5  4.5\n",
      "  6.5  5.5  9.5 17.5  7.  15.  10.  11.   8.5  8.  14.  10.5 19.  24.\n",
      " 16. ]\n",
      "count    975.000000\n",
      "mean       4.902564\n",
      "std        2.783650\n",
      "min        1.500000\n",
      "25%        3.000000\n",
      "50%        4.000000\n",
      "75%        6.000000\n",
      "max       24.000000\n",
      "Name: effort_mean, dtype: float64\n"
     ]
    },
    {
     "data": {
      "text/html": [
       "<div>\n",
       "<style scoped>\n",
       "    .dataframe tbody tr th:only-of-type {\n",
       "        vertical-align: middle;\n",
       "    }\n",
       "\n",
       "    .dataframe tbody tr th {\n",
       "        vertical-align: top;\n",
       "    }\n",
       "\n",
       "    .dataframe thead th {\n",
       "        text-align: right;\n",
       "    }\n",
       "</style>\n",
       "<table border=\"1\" class=\"dataframe\">\n",
       "  <thead>\n",
       "    <tr style=\"text-align: right;\">\n",
       "      <th></th>\n",
       "      <th>course_effort</th>\n",
       "      <th>effort_mean</th>\n",
       "    </tr>\n",
       "  </thead>\n",
       "  <tbody>\n",
       "    <tr>\n",
       "      <th>0</th>\n",
       "      <td>2–3 hours per week</td>\n",
       "      <td>2.5</td>\n",
       "    </tr>\n",
       "    <tr>\n",
       "      <th>1</th>\n",
       "      <td>2–4 hours per week</td>\n",
       "      <td>3.0</td>\n",
       "    </tr>\n",
       "    <tr>\n",
       "      <th>2</th>\n",
       "      <td>6–18 hours per week</td>\n",
       "      <td>12.0</td>\n",
       "    </tr>\n",
       "    <tr>\n",
       "      <th>3</th>\n",
       "      <td>10–15 hours per week</td>\n",
       "      <td>12.5</td>\n",
       "    </tr>\n",
       "    <tr>\n",
       "      <th>4</th>\n",
       "      <td>5–7 hours per week</td>\n",
       "      <td>6.0</td>\n",
       "    </tr>\n",
       "    <tr>\n",
       "      <th>5</th>\n",
       "      <td>2–3 hours per week</td>\n",
       "      <td>2.5</td>\n",
       "    </tr>\n",
       "    <tr>\n",
       "      <th>6</th>\n",
       "      <td>8–10 hours per week</td>\n",
       "      <td>9.0</td>\n",
       "    </tr>\n",
       "    <tr>\n",
       "      <th>7</th>\n",
       "      <td>2–3 hours per week</td>\n",
       "      <td>2.5</td>\n",
       "    </tr>\n",
       "    <tr>\n",
       "      <th>8</th>\n",
       "      <td>1–3 hours per week</td>\n",
       "      <td>2.0</td>\n",
       "    </tr>\n",
       "    <tr>\n",
       "      <th>9</th>\n",
       "      <td>3–4 hours per week</td>\n",
       "      <td>3.5</td>\n",
       "    </tr>\n",
       "  </tbody>\n",
       "</table>\n",
       "</div>"
      ],
      "text/plain": [
       "          course_effort  effort_mean\n",
       "0    2–3 hours per week          2.5\n",
       "1    2–4 hours per week          3.0\n",
       "2   6–18 hours per week         12.0\n",
       "3  10–15 hours per week         12.5\n",
       "4    5–7 hours per week          6.0\n",
       "5    2–3 hours per week          2.5\n",
       "6   8–10 hours per week          9.0\n",
       "7    2–3 hours per week          2.5\n",
       "8    1–3 hours per week          2.0\n",
       "9    3–4 hours per week          3.5"
      ]
     },
     "execution_count": 64,
     "metadata": {},
     "output_type": "execute_result"
    }
   ],
   "source": [
    "# Видим, что все 53 уникальных значения этого справочника имеют схожую структуру (диапазон часов в неделю).\n",
    "# Кажется рациональным преобразовать этот справочник к справочнику с количественными дискретными данными\n",
    "# Проще всего выделить интервал в часах и посчитать среднее значение интервала.\n",
    "# Сохраним существующий столбец и добавим новый - efform_mean\n",
    "\n",
    "def effort_mean(row):\n",
    "    range_ = row['course_effort'].split()[0].split('–')\n",
    "    return (int(range_[0]) + int(range_[1]))/2\n",
    "    \n",
    "cdf['effort_mean'] = cdf.apply(effort_mean, axis=1)\n",
    "print(cdf['effort_mean'].unique())\n",
    "print(cdf['effort_mean'].describe())\n",
    "# Для проверки результата выведем десять первых строк по этим двум колонкам (исходной и созданной на ее основе)\n",
    "cdf[['course_effort', 'effort_mean']].head(10)"
   ]
  },
  {
   "cell_type": "code",
   "execution_count": 65,
   "id": "8ba03d9e",
   "metadata": {},
   "outputs": [
    {
     "name": "stdout",
     "output_type": "stream",
     "text": [
      "count         975\n",
      "unique         18\n",
      "top       4 Weeks\n",
      "freq          194\n",
      "Name: course_length, dtype: object\n"
     ]
    },
    {
     "data": {
      "text/plain": [
       "array(['2 Weeks', '7 Weeks', '12 Weeks', '13 Weeks', '4 Weeks', '6 Weeks',\n",
       "       '10 Weeks', '8 Weeks', '5 Weeks', '16 Weeks', '15 Weeks',\n",
       "       '1 Weeks', '11 Weeks', '14 Weeks', '9 Weeks', '3 Weeks',\n",
       "       '18 Weeks', '17 Weeks'], dtype=object)"
      ]
     },
     "execution_count": 65,
     "metadata": {},
     "output_type": "execute_result"
    }
   ],
   "source": [
    "# Анализируем столбец Продолжительность обучения (course_length):\n",
    "print(cdf['course_length'].describe())\n",
    "cdf['course_length'].unique()\n",
    "# Видим, что структура всех значений одинакова и несложно преобразовать эту колонку в количественный дискретный тип"
   ]
  },
  {
   "cell_type": "code",
   "execution_count": 182,
   "id": "c92a8551",
   "metadata": {},
   "outputs": [
    {
     "name": "stdout",
     "output_type": "stream",
     "text": [
      "count    975.000000\n",
      "mean       6.705641\n",
      "std        3.150327\n",
      "min        1.000000\n",
      "25%        4.000000\n",
      "50%        6.000000\n",
      "75%        8.000000\n",
      "max       18.000000\n",
      "Name: weeks, dtype: float64\n"
     ]
    },
    {
     "data": {
      "text/html": [
       "<div>\n",
       "<style scoped>\n",
       "    .dataframe tbody tr th:only-of-type {\n",
       "        vertical-align: middle;\n",
       "    }\n",
       "\n",
       "    .dataframe tbody tr th {\n",
       "        vertical-align: top;\n",
       "    }\n",
       "\n",
       "    .dataframe thead th {\n",
       "        text-align: right;\n",
       "    }\n",
       "</style>\n",
       "<table border=\"1\" class=\"dataframe\">\n",
       "  <thead>\n",
       "    <tr style=\"text-align: right;\">\n",
       "      <th></th>\n",
       "      <th>course_length</th>\n",
       "      <th>weeks</th>\n",
       "    </tr>\n",
       "  </thead>\n",
       "  <tbody>\n",
       "    <tr>\n",
       "      <th>0</th>\n",
       "      <td>2 Weeks</td>\n",
       "      <td>2.0</td>\n",
       "    </tr>\n",
       "    <tr>\n",
       "      <th>1</th>\n",
       "      <td>7 Weeks</td>\n",
       "      <td>7.0</td>\n",
       "    </tr>\n",
       "    <tr>\n",
       "      <th>2</th>\n",
       "      <td>12 Weeks</td>\n",
       "      <td>12.0</td>\n",
       "    </tr>\n",
       "    <tr>\n",
       "      <th>3</th>\n",
       "      <td>13 Weeks</td>\n",
       "      <td>13.0</td>\n",
       "    </tr>\n",
       "    <tr>\n",
       "      <th>4</th>\n",
       "      <td>4 Weeks</td>\n",
       "      <td>4.0</td>\n",
       "    </tr>\n",
       "    <tr>\n",
       "      <th>5</th>\n",
       "      <td>6 Weeks</td>\n",
       "      <td>6.0</td>\n",
       "    </tr>\n",
       "    <tr>\n",
       "      <th>6</th>\n",
       "      <td>10 Weeks</td>\n",
       "      <td>10.0</td>\n",
       "    </tr>\n",
       "    <tr>\n",
       "      <th>7</th>\n",
       "      <td>4 Weeks</td>\n",
       "      <td>4.0</td>\n",
       "    </tr>\n",
       "    <tr>\n",
       "      <th>8</th>\n",
       "      <td>2 Weeks</td>\n",
       "      <td>2.0</td>\n",
       "    </tr>\n",
       "    <tr>\n",
       "      <th>9</th>\n",
       "      <td>8 Weeks</td>\n",
       "      <td>8.0</td>\n",
       "    </tr>\n",
       "  </tbody>\n",
       "</table>\n",
       "</div>"
      ],
      "text/plain": [
       "  course_length  weeks\n",
       "0       2 Weeks    2.0\n",
       "1       7 Weeks    7.0\n",
       "2      12 Weeks   12.0\n",
       "3      13 Weeks   13.0\n",
       "4       4 Weeks    4.0\n",
       "5       6 Weeks    6.0\n",
       "6      10 Weeks   10.0\n",
       "7       4 Weeks    4.0\n",
       "8       2 Weeks    2.0\n",
       "9       8 Weeks    8.0"
      ]
     },
     "execution_count": 182,
     "metadata": {},
     "output_type": "execute_result"
    }
   ],
   "source": [
    "# Создаем новый столбец weeks и сохраняем в нем цифру - количество недель на обучение\n",
    "cdf['weeks'] = cdf.apply(lambda x: x['course_length'].split()[0], axis=1).astype('float64')\n",
    "#cdf['weeks'] = cdf['weeks'].astype('float64')\n",
    "print(cdf['weeks'].describe())\n",
    "cdf[['course_length', 'weeks']].head(10)\n",
    "# Видим, что наиболее популярна продолжительность курса 4 недели"
   ]
  },
  {
   "cell_type": "code",
   "execution_count": 70,
   "id": "b6cdd0f7",
   "metadata": {},
   "outputs": [
    {
     "name": "stdout",
     "output_type": "stream",
     "text": [
      "count                                             975\n",
      "unique                                             47\n",
      "top       FREE-Add a Verified Certificate for $49 USD\n",
      "freq                                              270\n",
      "Name: price, dtype: object\n"
     ]
    },
    {
     "data": {
      "text/plain": [
       "array(['FREE-Add a Verified Certificate for $49 USD',\n",
       "       'FREE-Add a Verified Certificate for $90 USD',\n",
       "       'FREE-Add a Verified Certificate for $199 USD',\n",
       "       'FREE-Add a Verified Certificate for $249 USD',\n",
       "       'FREE-Add a Verified Certificate for $5 USD',\n",
       "       'FREE-Add a Verified Certificate for $99 USD',\n",
       "       'FREE-Add a Verified Certificate for $39 USD',\n",
       "       'FREE-Add a Verified Certificate for $399 USD',\n",
       "       'FREE-Add a Verified Certificate for $149 USD',\n",
       "       'FREE-Add a Verified Certificate for $125 USD',\n",
       "       'FREE-Add a Verified Certificate for $40 USD',\n",
       "       'FREE-Add a Verified Certificate for $25 USD',\n",
       "       'FREE-Add a Verified Certificate for $50 USD',\n",
       "       'FREE-Add a Verified Certificate for $169 USD',\n",
       "       'FREE-Add a Verified Certificate for $70 USD',\n",
       "       'FREE-Add a Verified Certificate for $79 USD',\n",
       "       'FREE-Add a Verified Certificate for $150 USD',\n",
       "       'FREE-Add a Verified Certificate for $69 USD',\n",
       "       'FREE-Add a Verified Certificate for $200 USD',\n",
       "       'FREE-Add a Verified Certificate for $225 USD',\n",
       "       'FREE-Add a Verified Certificate for $75 USD',\n",
       "       'FREE-Add a Verified Certificate for $300 USD',\n",
       "       'FREE-Add a Verified Certificate for $139 USD',\n",
       "       'FREE-Add a Verified Certificate for $350 USD',\n",
       "       'FREE-Add a Verified Certificate for $19 USD',\n",
       "       'FREE-Add a Verified Certificate for $100 USD',\n",
       "       'FREE-Add a Verified Certificate for $450 USD',\n",
       "       'FREE-Add a Verified Certificate for $119 USD',\n",
       "       'FREE-Add a Verified Certificate for $60 USD',\n",
       "       'FREE-Add a Verified Certificate for $299 USD',\n",
       "       'FREE-Add a Verified Certificate for $29 USD',\n",
       "       'FREE-Add a Verified Certificate for $65 USD',\n",
       "       'FREE-Add a Verified Certificate for $15 USD',\n",
       "       'FREE-Add a Verified Certificate for $214 USD',\n",
       "       'FREE-Add a Verified Certificate for $10 USD',\n",
       "       'FREE-Add a Verified Certificate for $49.99 USD',\n",
       "       'FREE-Add a Verified Certificate for $129 USD',\n",
       "       'FREE-Add a Verified Certificate for $59 USD',\n",
       "       'FREE-Add a Verified Certificate for $299.70 USD',\n",
       "       'FREE-Add a Verified Certificate for $179 USD',\n",
       "       'FREE-Add a Verified Certificate for $250 USD',\n",
       "       'FREE-Add a Verified Certificate for $399.60 USD',\n",
       "       'FREE-Add a Verified Certificate for $159 USD',\n",
       "       'FREE-Add a Verified Certificate for $375 USD',\n",
       "       'FREE-Add a Verified Certificate for $166 USD',\n",
       "       'FREE-Add a Verified Certificate for $49.90 USD',\n",
       "       'FREE-Add a Verified Certificate for $30 USD'], dtype=object)"
      ]
     },
     "execution_count": 70,
     "metadata": {},
     "output_type": "execute_result"
    }
   ],
   "source": [
    "# Последний столбец для анализа - стоимость обучения (price):\n",
    "print(cdf['price'].describe())\n",
    "cdf['price'].unique()\n",
    "# Видим, что абсолютно все курсы, представленные в этой подборке, бесплатны, но сертификат по обучению стоит разных денег\n",
    "# Попробуем вытянуть стоимость сертификата в отдельную колонку"
   ]
  },
  {
   "cell_type": "code",
   "execution_count": 183,
   "id": "872aae6e",
   "metadata": {},
   "outputs": [
    {
     "data": {
      "text/plain": [
       "0     49.0\n",
       "1     49.0\n",
       "2     90.0\n",
       "3    199.0\n",
       "4    249.0\n",
       "Name: certificate, dtype: float64"
      ]
     },
     "execution_count": 183,
     "metadata": {},
     "output_type": "execute_result"
    }
   ],
   "source": [
    "# Создаем новый столбец certificate и сохраняем в нем цифру - стоимость сертификата\n",
    "cdf['certificate'] = cdf.apply(lambda x: x['price'].split()[-2][1:], axis=1).astype('float64')\n",
    "cdf['certificate'].head()"
   ]
  },
  {
   "cell_type": "code",
   "execution_count": 78,
   "id": "4848fe44",
   "metadata": {},
   "outputs": [
    {
     "data": {
      "text/html": [
       "<div>\n",
       "<style scoped>\n",
       "    .dataframe tbody tr th:only-of-type {\n",
       "        vertical-align: middle;\n",
       "    }\n",
       "\n",
       "    .dataframe tbody tr th {\n",
       "        vertical-align: top;\n",
       "    }\n",
       "\n",
       "    .dataframe thead th {\n",
       "        text-align: right;\n",
       "    }\n",
       "</style>\n",
       "<table border=\"1\" class=\"dataframe\">\n",
       "  <thead>\n",
       "    <tr style=\"text-align: right;\">\n",
       "      <th></th>\n",
       "      <th>title</th>\n",
       "      <th>n_enrolled</th>\n",
       "      <th>course_type</th>\n",
       "      <th>institution</th>\n",
       "      <th>Level</th>\n",
       "      <th>subject</th>\n",
       "      <th>language</th>\n",
       "      <th>course_effort</th>\n",
       "      <th>course_length</th>\n",
       "      <th>price</th>\n",
       "      <th>effort_mean</th>\n",
       "      <th>weeks</th>\n",
       "      <th>certificate</th>\n",
       "    </tr>\n",
       "  </thead>\n",
       "  <tbody>\n",
       "    <tr>\n",
       "      <th>0</th>\n",
       "      <td>How to Learn Online</td>\n",
       "      <td>124980.0</td>\n",
       "      <td>Self-paced on your time</td>\n",
       "      <td>edX</td>\n",
       "      <td>Introductory</td>\n",
       "      <td>Education &amp; Teacher Training</td>\n",
       "      <td>English</td>\n",
       "      <td>2–3 hours per week</td>\n",
       "      <td>2 Weeks</td>\n",
       "      <td>FREE-Add a Verified Certificate for $49 USD</td>\n",
       "      <td>2.5</td>\n",
       "      <td>2</td>\n",
       "      <td>49</td>\n",
       "    </tr>\n",
       "    <tr>\n",
       "      <th>1</th>\n",
       "      <td>Programming for Everybody (Getting Started wit...</td>\n",
       "      <td>293864.0</td>\n",
       "      <td>Self-paced on your time</td>\n",
       "      <td>The University of Michigan</td>\n",
       "      <td>Introductory</td>\n",
       "      <td>Computer Science</td>\n",
       "      <td>English</td>\n",
       "      <td>2–4 hours per week</td>\n",
       "      <td>7 Weeks</td>\n",
       "      <td>FREE-Add a Verified Certificate for $49 USD</td>\n",
       "      <td>3.0</td>\n",
       "      <td>7</td>\n",
       "      <td>49</td>\n",
       "    </tr>\n",
       "    <tr>\n",
       "      <th>2</th>\n",
       "      <td>CS50's Introduction to Computer Science</td>\n",
       "      <td>2442271.0</td>\n",
       "      <td>Self-paced on your time</td>\n",
       "      <td>Harvard University</td>\n",
       "      <td>Introductory</td>\n",
       "      <td>Computer Science</td>\n",
       "      <td>English</td>\n",
       "      <td>6–18 hours per week</td>\n",
       "      <td>12 Weeks</td>\n",
       "      <td>FREE-Add a Verified Certificate for $90 USD</td>\n",
       "      <td>12.0</td>\n",
       "      <td>12</td>\n",
       "      <td>90</td>\n",
       "    </tr>\n",
       "    <tr>\n",
       "      <th>3</th>\n",
       "      <td>The Analytics Edge</td>\n",
       "      <td>129555.0</td>\n",
       "      <td>Instructor-led on a course schedule</td>\n",
       "      <td>Massachusetts Institute of Technology</td>\n",
       "      <td>Intermediate</td>\n",
       "      <td>Data Analysis &amp; Statistics</td>\n",
       "      <td>English</td>\n",
       "      <td>10–15 hours per week</td>\n",
       "      <td>13 Weeks</td>\n",
       "      <td>FREE-Add a Verified Certificate for $199 USD</td>\n",
       "      <td>12.5</td>\n",
       "      <td>13</td>\n",
       "      <td>199</td>\n",
       "    </tr>\n",
       "    <tr>\n",
       "      <th>4</th>\n",
       "      <td>Marketing Analytics: Marketing Measurement Str...</td>\n",
       "      <td>81140.0</td>\n",
       "      <td>Self-paced on your time</td>\n",
       "      <td>University of California, Berkeley</td>\n",
       "      <td>Introductory</td>\n",
       "      <td>Computer Science</td>\n",
       "      <td>English</td>\n",
       "      <td>5–7 hours per week</td>\n",
       "      <td>4 Weeks</td>\n",
       "      <td>FREE-Add a Verified Certificate for $249 USD</td>\n",
       "      <td>6.0</td>\n",
       "      <td>4</td>\n",
       "      <td>249</td>\n",
       "    </tr>\n",
       "  </tbody>\n",
       "</table>\n",
       "</div>"
      ],
      "text/plain": [
       "                                               title  n_enrolled  \\\n",
       "0                                How to Learn Online    124980.0   \n",
       "1  Programming for Everybody (Getting Started wit...    293864.0   \n",
       "2            CS50's Introduction to Computer Science   2442271.0   \n",
       "3                                 The Analytics Edge    129555.0   \n",
       "4  Marketing Analytics: Marketing Measurement Str...     81140.0   \n",
       "\n",
       "                           course_type                            institution  \\\n",
       "0              Self-paced on your time                                    edX   \n",
       "1              Self-paced on your time             The University of Michigan   \n",
       "2              Self-paced on your time                     Harvard University   \n",
       "3  Instructor-led on a course schedule  Massachusetts Institute of Technology   \n",
       "4              Self-paced on your time     University of California, Berkeley   \n",
       "\n",
       "          Level                       subject language         course_effort  \\\n",
       "0  Introductory  Education & Teacher Training  English    2–3 hours per week   \n",
       "1  Introductory              Computer Science  English    2–4 hours per week   \n",
       "2  Introductory              Computer Science  English   6–18 hours per week   \n",
       "3  Intermediate    Data Analysis & Statistics  English  10–15 hours per week   \n",
       "4  Introductory              Computer Science  English    5–7 hours per week   \n",
       "\n",
       "  course_length                                         price  effort_mean  \\\n",
       "0       2 Weeks   FREE-Add a Verified Certificate for $49 USD          2.5   \n",
       "1       7 Weeks   FREE-Add a Verified Certificate for $49 USD          3.0   \n",
       "2      12 Weeks   FREE-Add a Verified Certificate for $90 USD         12.0   \n",
       "3      13 Weeks  FREE-Add a Verified Certificate for $199 USD         12.5   \n",
       "4       4 Weeks  FREE-Add a Verified Certificate for $249 USD          6.0   \n",
       "\n",
       "  weeks certificate  \n",
       "0     2          49  \n",
       "1     7          49  \n",
       "2    12          90  \n",
       "3    13         199  \n",
       "4     4         249  "
      ]
     },
     "execution_count": 78,
     "metadata": {},
     "output_type": "execute_result"
    }
   ],
   "source": [
    "# Все столбцы подготовлены, датасет готов к визуализации.\n",
    "cdf.head()\n",
    "# Кажется интересным сравнить между собой разные учебные организации, направления обучения и т.п."
   ]
  },
  {
   "cell_type": "code",
   "execution_count": 113,
   "id": "6f630932",
   "metadata": {},
   "outputs": [
    {
     "name": "stdout",
     "output_type": "stream",
     "text": [
      "                             institution  title\n",
      "9                    Columbia University     20\n",
      "8               Tecnológico de Monterrey     21\n",
      "7             The University of Michigan     22\n",
      "6           The University of Queensland     26\n",
      "5        Inter-American Development Bank     29\n",
      "4                                    IBM     30\n",
      "3         Delft University of Technology     30\n",
      "2  Massachusetts Institute of Technology     41\n",
      "1    Universitat Politècnica de Valencia     47\n",
      "0                     Harvard University    104\n"
     ]
    },
    {
     "data": {
      "image/png": "[encoded data removed]",
      "text/plain": [
       "<Figure size 864x576 with 1 Axes>"
      ]
     },
     "metadata": {
      "needs_background": "light"
     },
     "output_type": "display_data"
    }
   ],
   "source": [
    "#увеличим дефолтный размер графиков\n",
    "from pylab import rcParams\n",
    "rcParams['figure.figsize'] = 12,8\n",
    "\n",
    "# Для начала исследуем гистограммы по обучающим организациям. Смотрим первые 10 организаций, у которых больше всего курсов\n",
    "institution_cnt = cdf[['institution', 'title']].groupby(['institution']).count().sort_values('title', ascending=False) \\\n",
    "    .reset_index().head(10)[::-1]\n",
    "print(institution_cnt)\n",
    "\n",
    "y_pos = np.arange(10)\n",
    "plt.title('Организации - лидеры по количеству курсов')\n",
    "# Bars\n",
    "plt.barh(y_pos, institution_cnt['title'])\n",
    "\n",
    "# Заголовки на оси y\n",
    "plt.yticks(y_pos, institution_cnt['institution'])\n",
    "\n",
    "# Показываем диаграмму\n",
    "plt.show()"
   ]
  },
  {
   "cell_type": "code",
   "execution_count": 114,
   "id": "ca17415a",
   "metadata": {},
   "outputs": [
    {
     "name": "stdout",
     "output_type": "stream",
     "text": [
      "                             institution  n_enrolled\n",
      "9                   The Linux Foundation   1001977.0\n",
      "8            Educational Testing Service   1022489.0\n",
      "7         Delft University of Technology   1073553.0\n",
      "6        Inter-American Development Bank   1115101.0\n",
      "5                    Columbia University   1341270.0\n",
      "4  Massachusetts Institute of Technology   1547111.0\n",
      "3     University of California, Berkeley   1840798.0\n",
      "2    Universitat Politècnica de Valencia   2117083.0\n",
      "1           The University of Queensland   2301994.0\n",
      "0                     Harvard University  13459914.0\n"
     ]
    },
    {
     "data": {
      "image/png": "[encoded data removed]",
      "text/plain": [
       "<Figure size 864x576 with 1 Axes>"
      ]
     },
     "metadata": {
      "needs_background": "light"
     },
     "output_type": "display_data"
    }
   ],
   "source": [
    "# Теперь смотрим первые 10 организаций, у которых больше всего записавшихся на обучение\n",
    "institution_cnt = cdf[['institution', 'n_enrolled']].groupby(['institution']).sum().sort_values('n_enrolled', ascending=False) \\\n",
    "    .reset_index().head(10)[::-1]\n",
    "print(institution_cnt)\n",
    "\n",
    "y_pos = np.arange(10)\n",
    "plt.title('Организации - лидеры по количеству обучающихся')\n",
    "# Bars\n",
    "plt.barh(y_pos, institution_cnt['title'])\n",
    "\n",
    "# Заголовки на оси y\n",
    "plt.yticks(y_pos, institution_cnt['institution'])\n",
    "\n",
    "# Показываем диаграмму\n",
    "plt.show()"
   ]
  },
  {
   "cell_type": "code",
   "execution_count": 127,
   "id": "92da9583",
   "metadata": {},
   "outputs": [
    {
     "data": {
      "image/png": "[encoded data removed]",
      "text/plain": [
       "<Figure size 864x576 with 1 Axes>"
      ]
     },
     "metadata": {
      "needs_background": "light"
     },
     "output_type": "display_data"
    }
   ],
   "source": [
    "# Сравнение этих двух графиков показывает, что Гарвадр является абсолютным лидером по количеству обучающихся,\n",
    "# но его лидерство по количеству курсов хоть и заметно, но не настолько резко выражено.\n",
    "# Также видно, что есть организации, имеющие не рекордное количество курсов, но их курсы более популярны.\n",
    "# К примеру, Университет Квинсленда, находясь на 7 месте по количеству курсов, на втором по популярности, \n",
    "# а Беркли на 4-м, хотя по количеству курсов их нет в первой десятке.\n",
    "# Попробуем теперь посмотреть на эти же соотношения с помощью ScatterPlot.\n",
    "# Выделим те организации, у которых более 3 курсов, и сравним их популярность\n",
    "# groupby('dummy')['returns'].agg(Mean='mean', Sum='sum')\n",
    "institution_cnt = cdf[['institution', 'n_enrolled']].groupby('institution')['n_enrolled'].agg(Cnt='count', Sum='sum') \\\n",
    "    .reset_index().query('Cnt > 3')\n",
    "#institution_cnt.head()\n",
    "plt.title('Организации: количество обучающихся vs количество курсов')\n",
    "plt.plot( 'Sum', 'Cnt', data=institution_cnt, linestyle='none', marker='o')\n",
    "plt.show()\n"
   ]
  },
  {
   "cell_type": "code",
   "execution_count": 130,
   "id": "de72e32a",
   "metadata": {},
   "outputs": [
    {
     "name": "stdout",
     "output_type": "stream",
     "text": [
      "                                           institution  Cnt        Sum\n",
      "85                 Universitat Politècnica de Valencia   45  2117083.0\n",
      "39               Massachusetts Institute of Technology   37  1547111.0\n",
      "17                      Delft University of Technology   28  1073553.0\n",
      "32                     Inter-American Development Bank   27  1115101.0\n",
      "70                        The University of Queensland   24  2301994.0\n",
      "26                                                 IBM   22   861234.0\n",
      "91                  University of California, Berkeley   20  1840798.0\n",
      "68                          The University of Michigan   20   832941.0\n",
      "10                                 Columbia University   20  1341270.0\n",
      "55                            Tecnológico de Monterrey   16   184587.0\n",
      "12                                   Curtin University   15   493336.0\n",
      "50                                         SDG Academy   15   168824.0\n",
      "103                   Wageningen University & Research   15   677670.0\n",
      "79                      Universidad Autónoma de Madrid   12   204590.0\n",
      "67   The University of Maryland, College Park-Unive...   12   225210.0\n",
      "84                               Universidades Anáhuac   11   184816.0\n",
      "77                                 Tsinghua University   11   553986.0\n",
      "81                                 Universidad Galileo   11   291546.0\n",
      "88                              University of Adelaide   11   679546.0\n",
      "80                    Universidad Carlos III de Madrid   10   541442.0\n"
     ]
    },
    {
     "data": {
      "image/png": "[encoded data removed]",
      "text/plain": [
       "<Figure size 864x576 with 1 Axes>"
      ]
     },
     "metadata": {
      "needs_background": "light"
     },
     "output_type": "display_data"
    }
   ],
   "source": [
    "# Эта диаграмма не очень наглядна из-за доминирования Гарварда. Выбросим эту точку и посмотрим, что получится\n",
    "institution_cnt_2 = institution_cnt.sort_values('Cnt', ascending=False)[1:]\n",
    "print(institution_cnt_2.head(20))\n",
    "plt.title('Организации: количество обучающихся vs количество курсов (без Гарварда)')\n",
    "plt.plot( 'Sum', 'Cnt', data=institution_cnt_2, linestyle='none', marker='o', color='#1B9E77')\n",
    "plt.show()"
   ]
  },
  {
   "cell_type": "code",
   "execution_count": null,
   "id": "fbb3d739",
   "metadata": {},
   "outputs": [],
   "source": [
    "# Эта диаграмма позволяет выделить группу организаций в средней нижней части, у которых при относительно небольшом \n",
    "# количестве курсов количество записавшихся на обучение высокое, что может косвенно свидетельствовать \n",
    "# или о качестве учебных материалов, или, к примеру, о хорошем маркетинге.\n",
    "# С другой стороны есть организации, которые размещают в edX много курсов, возможно, не уделяя особого внимания их качеству"
   ]
  },
  {
   "cell_type": "code",
   "execution_count": null,
   "id": "7e516223",
   "metadata": {},
   "outputs": [],
   "source": [
    "######### Попробуем посмотреть, меняется ли каким-то образом эта картина для разных типов курсов"
   ]
  },
  {
   "cell_type": "code",
   "execution_count": 131,
   "id": "308ae57a",
   "metadata": {},
   "outputs": [
    {
     "data": {
      "text/plain": [
       "<AxesSubplot:title={'center':'Количество'}>"
      ]
     },
     "execution_count": 131,
     "metadata": {},
     "output_type": "execute_result"
    },
    {
     "data": {
      "image/png": "[encoded data removed]",
      "text/plain": [
       "<Figure size 864x576 with 1 Axes>"
      ]
     },
     "metadata": {
      "needs_background": "light"
     },
     "output_type": "display_data"
    }
   ],
   "source": [
    "# Попробуем оценить общее распределение количества пользователей, записавшихся на курсы, с помощью Box Plot\n",
    "cdf['n_enrolled'].plot(kind='box',\n",
    "                   title='Количество пользователей, записавшихся на курсы', grid=True)\n",
    "# Видно, что есть как минимум три курса, на которые записалось более миллиона человек. Эти выбросы мешают оценить график"
   ]
  },
  {
   "cell_type": "code",
   "execution_count": 138,
   "id": "c624ca9c",
   "metadata": {},
   "outputs": [
    {
     "name": "stdout",
     "output_type": "stream",
     "text": [
      "Количество курсов, на которые записалось более 200 000 человек:  40\n"
     ]
    },
    {
     "data": {
      "text/plain": [
       "<AxesSubplot:title={'center':'Количество пользователей, записавшихся на курсы'}>"
      ]
     },
     "execution_count": 138,
     "metadata": {},
     "output_type": "execute_result"
    },
    {
     "data": {
      "image/png": "[encoded data removed]",
      "text/plain": [
       "<Figure size 864x576 with 1 Axes>"
      ]
     },
     "metadata": {
      "needs_background": "light"
     },
     "output_type": "display_data"
    }
   ],
   "source": [
    "# Попробуем отсечь все курсы,на которые записалось более 200 000 человек, и посмотрим, изменится ли качественно график\n",
    "print('Количество курсов, на которые записалось более 200 000 человек: ', cdf.query('n_enrolled > 200000')['title'].count())\n",
    "cdf.query('n_enrolled < 200000')['n_enrolled'].plot(kind='box',\n",
    "                   title='Количество пользователей, записавшихся на курсы', grid=True)\n"
   ]
  },
  {
   "cell_type": "code",
   "execution_count": 142,
   "id": "e93776dd",
   "metadata": {},
   "outputs": [
    {
     "data": {
      "text/plain": [
       "<AxesSubplot:title={'center':'Количество пользователей, записавшихся на курсы'}>"
      ]
     },
     "execution_count": 142,
     "metadata": {},
     "output_type": "execute_result"
    },
    {
     "data": {
      "image/png": "[encoded data removed]",
      "text/plain": [
       "<Figure size 864x576 with 1 Axes>"
      ]
     },
     "metadata": {
      "needs_background": "light"
     },
     "output_type": "display_data"
    }
   ],
   "source": [
    "# Сравним эту картинку по всей выборке с данными по Гарварду:\n",
    "cdf.query('(n_enrolled < 200000) & (institution == \"Harvard University\")')['n_enrolled'].plot(kind='box',\n",
    "                   title='Количество пользователей, записавшихся на курсы', grid=True)"
   ]
  },
  {
   "cell_type": "code",
   "execution_count": 149,
   "id": "5bc886f8",
   "metadata": {},
   "outputs": [
    {
     "data": {
      "text/plain": [
       "<AxesSubplot:xlabel='Level', ylabel='n_enrolled'>"
      ]
     },
     "execution_count": 149,
     "metadata": {},
     "output_type": "execute_result"
    },
    {
     "data": {
      "image/png": "[encoded data removed]",
      "text/plain": [
       "<Figure size 864x576 with 1 Axes>"
      ]
     },
     "metadata": {
      "needs_background": "light"
     },
     "output_type": "display_data"
    }
   ],
   "source": [
    "# Попробуем подключить библиотеку SeaBorn и посмотреть еще один вариант Box Plot - диаграммы\n",
    "import seaborn as sns\n",
    "\n",
    "# Посмотрим, как выглядит распределение количества обучающихся по трем уровням обучения\n",
    "cdf2 = cdf[cdf['n_enrolled'] < 200000]\n",
    "sns.boxplot(data=cdf2,  x=cdf2[\"Level\"], y=cdf2[\"n_enrolled\"] )\n"
   ]
  },
  {
   "cell_type": "code",
   "execution_count": null,
   "id": "578b6f39",
   "metadata": {},
   "outputs": [],
   "source": [
    "# по графику видно, что в среднем на ознакомительные курсы люди записываются чаще, но незначительно.\n",
    "# Также видно, что по каждому типу курсов есть длинные хвосты выбросов, видимо, демонстрирующие наличие\n",
    "# широко востребованных, популярных курсов. Далее попробуем проанализировать направления обучения."
   ]
  },
  {
   "cell_type": "code",
   "execution_count": 159,
   "id": "bed0637b",
   "metadata": {},
   "outputs": [
    {
     "name": "stdout",
     "output_type": "stream",
     "text": [
      "Computer Science              166\n",
      "Business & Management         164\n",
      "Data Analysis & Statistics     72\n",
      "Humanities                     64\n",
      "Engineering                    58\n",
      "Social Sciences                51\n",
      "Economics & Finance            46\n",
      "Communication                  39\n",
      "Biology & Life Sciences        35\n",
      "Language                       34\n",
      "Medicine                       31\n",
      "Math                           31\n",
      "Name: subject, dtype: int64\n"
     ]
    },
    {
     "data": {
      "text/plain": [
       "[Text(0, 0, 'Data Analysis & Statistics'),\n",
       " Text(1, 0, 'Computer Science'),\n",
       " Text(2, 0, 'Communication'),\n",
       " Text(3, 0, 'Business & Management'),\n",
       " Text(4, 0, 'Math'),\n",
       " Text(5, 0, 'Economics & Finance'),\n",
       " Text(6, 0, 'Humanities'),\n",
       " Text(7, 0, 'Social Sciences'),\n",
       " Text(8, 0, 'Medicine'),\n",
       " Text(9, 0, 'Language'),\n",
       " Text(10, 0, 'Biology & Life Sciences'),\n",
       " Text(11, 0, 'Engineering')]"
      ]
     },
     "execution_count": 159,
     "metadata": {},
     "output_type": "execute_result"
    },
    {
     "data": {
      "image/png": "[encoded data removed]",
      "text/plain": [
       "<Figure size 864x576 with 1 Axes>"
      ]
     },
     "metadata": {
      "needs_background": "light"
     },
     "output_type": "display_data"
    }
   ],
   "source": [
    "# Определим 12 наиболее популярных направлений\n",
    "print(cdf['subject'].value_counts().sort_values(ascending=False).head(12))\n",
    "subjects_12 = cdf['subject'].value_counts().sort_values(ascending=False).head(12).index.values\n",
    "subjects_12\n",
    "ax = sns.boxplot(x=\"subject\", y=\"n_enrolled\", \n",
    "            data=cdf2[cdf2['subject'].isin(subjects_12)])\n",
    "ax.set_xticklabels(ax.get_xticklabels(), rotation=75)"
   ]
  },
  {
   "cell_type": "code",
   "execution_count": null,
   "id": "bb16b9d2",
   "metadata": {},
   "outputs": [],
   "source": [
    "# Этот график удобно смотреть в комбинации с информацией о количестве курсов по каждому из этих направлений (табличка выше)\n",
    "# Можно увидеть, что несмотря на количество предложений менее популярны курсы по социальным наукам, экономике и инженерии, \n",
    "# а наиболее востребованы Data Analysis & Statistics, Business & Management, Humanities, Language"
   ]
  },
  {
   "cell_type": "code",
   "execution_count": 162,
   "id": "ff8a6f5d",
   "metadata": {},
   "outputs": [
    {
     "name": "stdout",
     "output_type": "stream",
     "text": [
      "Level                       Advanced  Intermediate  Introductory\n",
      "subject                                                         \n",
      "Biology & Life Sciences      69494.0      236495.0      869094.0\n",
      "Business & Management       395102.0     1786640.0     3554162.0\n",
      "Communication                19717.0      360814.0      663239.0\n",
      "Computer Science            570830.0     1514046.0     3481197.0\n",
      "Data Analysis & Statistics  412895.0      725636.0     1304902.0\n",
      "Economics & Finance          45225.0      279077.0      511605.0\n",
      "Engineering                 352672.0      495366.0      548801.0\n",
      "Humanities                   39398.0       54152.0     2390990.0\n",
      "Language                     24667.0      350884.0      687706.0\n",
      "Math                             0.0      335695.0      628058.0\n",
      "Medicine                         0.0      134829.0      597336.0\n",
      "Social Sciences              49126.0      347359.0      759827.0\n"
     ]
    },
    {
     "data": {
      "text/plain": [
       "<AxesSubplot:xlabel='Level', ylabel='subject'>"
      ]
     },
     "execution_count": 162,
     "metadata": {},
     "output_type": "execute_result"
    },
    {
     "data": {
      "image/png": "[encoded data removed]",
      "text/plain": [
       "<Figure size 864x576 with 2 Axes>"
      ]
     },
     "metadata": {
      "needs_background": "light"
     },
     "output_type": "display_data"
    }
   ],
   "source": [
    "# Посмотрим на то, как эти данные соотносятся с уровнями обучения\n",
    "subjects_by_levels = cdf2[cdf2['subject'].isin(subjects_12)].pivot_table(\n",
    "                        index='subject', \n",
    "                        columns='Level', \n",
    "                        values='n_enrolled', \n",
    "                        aggfunc=sum).fillna(0)\n",
    "\n",
    "print(subjects_by_levels)\n",
    "sns.heatmap(subjects_by_levels)"
   ]
  },
  {
   "cell_type": "code",
   "execution_count": null,
   "id": "2cef8451",
   "metadata": {},
   "outputs": [],
   "source": [
    "# Эта диаграмма подтверждает выводы по прошлым графикам. Видно, насколько меньше продвинутых курсов по сравнению с остальными\n",
    "# Также резко выделяются ознакомительные курсы по компьютерным наукам и по бизнес-менеджменту"
   ]
  },
  {
   "cell_type": "code",
   "execution_count": 178,
   "id": "300593a0",
   "metadata": {},
   "outputs": [
    {
     "name": "stdout",
     "output_type": "stream",
     "text": [
      "                         subject      weeks\n",
      "0                   Philanthropy   4.000000\n",
      "1                  Communication   5.153846\n",
      "2                        Science   5.400000\n",
      "3                          Music   5.428571\n",
      "4                   Architecture   5.600000\n",
      "5                Health & Safety   5.636364\n",
      "6                       Language   5.794118\n",
      "7                    Electronics   6.000000\n",
      "8     Data Analysis & Statistics   6.125000\n",
      "9               Food & Nutrition   6.166667\n",
      "10  Education & Teacher Training   6.172414\n",
      "11                    Humanities   6.234375\n",
      "12           Economics & Finance   6.239130\n",
      "13                      Medicine   6.451613\n",
      "14              Computer Science   6.512048\n",
      "15         Environmental Studies   6.562500\n",
      "16         Business & Management   6.774390\n",
      "17       Biology & Life Sciences   6.942857\n",
      "18               Social Sciences   7.000000\n",
      "19                          Math   7.096774\n",
      "20                        Design   7.250000\n",
      "21                   Engineering   7.344828\n",
      "22                     Chemistry   7.600000\n",
      "23           Philosophy & Ethics   7.666667\n",
      "24                    Literature   7.750000\n",
      "25                           Law   8.100000\n",
      "26       Energy & Earth Sciences   9.250000\n",
      "27                 Art & Culture   9.250000\n",
      "28                       Physics   9.777778\n",
      "29                        Ethics  10.000000\n",
      "30                       History  10.050000\n"
     ]
    },
    {
     "data": {
      "image/png": "[encoded data removed]",
      "text/plain": [
       "<Figure size 864x576 with 1 Axes>"
      ]
     },
     "metadata": {
      "needs_background": "light"
     },
     "output_type": "display_data"
    }
   ],
   "source": [
    "# Проанализируем среднюю продолжительность курсов по направлениям (в неделях)\n",
    "subjects_in_weeks = cdf[['subject', 'weeks']].groupby('subject').mean().sort_values('weeks', ascending=True).reset_index()\n",
    "print(subjects_in_weeks)\n",
    "my_range = range(1, len(subjects_in_weeks)+1)\n",
    "plt.hlines(y=my_range, xmin=0, xmax=subjects_in_weeks['weeks'], color='skyblue')\n",
    "plt.plot(subjects_in_weeks['weeks'], my_range, \"o\")\n",
    " \n",
    "# Задаем параметры\n",
    "plt.yticks(my_range, subjects_in_weeks['subject'])\n",
    "plt.title(\"Продолжительность обучения по направлениям (lolipop plot)\", loc='center')\n",
    "plt.xlabel('Недели')\n",
    "plt.ylabel('Направление')\n",
    "\n",
    "# Show the plot\n",
    "plt.show()"
   ]
  },
  {
   "cell_type": "code",
   "execution_count": null,
   "id": "a7d2e658",
   "metadata": {},
   "outputs": [],
   "source": [
    "# Эта диаграмма позволяет увидеть, что наиболее продолжительными оказываются курсы по фундаментальным направлениям,\n",
    "# В средний сегмент попадают современные технологии, а меньше всего времени затрачивается на курсы общекультурного плана\n",
    "# (есть и исключения из этого).\n",
    "# Интересно было бы посмотреть эти же графики для каждого из уровней курсов, но мы не будем :)"
   ]
  },
  {
   "cell_type": "code",
   "execution_count": 194,
   "id": "9cb1eaf9",
   "metadata": {},
   "outputs": [
    {
     "name": "stdout",
     "output_type": "stream",
     "text": [
      "                                          effort_mean  certificate      weeks\n",
      "institution                                                                  \n",
      "Amazon Web Services                          3.214286    99.000000   4.714286\n",
      "Amnesty International                        3.500000    49.000000   3.250000\n",
      "Arizona State University                     8.333333    89.000000  11.000000\n",
      "Arm Education                                4.500000   149.000000   6.000000\n",
      "Australian National University               3.000000    49.800000   9.200000\n",
      "...                                               ...          ...        ...\n",
      "Western Governors University                 9.500000   333.000000   7.333333\n",
      "Wits University                              2.857143   121.857143   5.857143\n",
      "World Bank Group                             3.500000     5.000000   5.000000\n",
      "edX                                          2.900000    79.000000   2.000000\n",
      "École polytechnique fédérale de Lausanne     4.166667   164.000000   6.333333\n",
      "\n",
      "[111 rows x 3 columns]\n"
     ]
    },
    {
     "data": {
      "text/plain": [
       "Text(0.5, 1.0, 'Стоимость обучения в зависимости от длительности и трудоемкости')"
      ]
     },
     "execution_count": 194,
     "metadata": {},
     "output_type": "execute_result"
    },
    {
     "data": {
      "image/png": "[encoded data removed]",
      "text/plain": [
       "<Figure size 864x576 with 1 Axes>"
      ]
     },
     "metadata": {
      "needs_background": "light"
     },
     "output_type": "display_data"
    }
   ],
   "source": [
    "# Проанализируем трудозатраты на обучение (среднее время в часах в неделю), среднюю общую продолжительность обучения\n",
    "# и связь этих параметров со стоимостью сертификата (размер бабла)\n",
    "# Будем смотреть на эти данные для обучающих организаций \n",
    "institutions_by_efforts = cdf[['institution', 'effort_mean', 'certificate', 'weeks']].groupby('institution') \\\n",
    "    .agg({'effort_mean': 'mean', 'certificate': 'mean', 'weeks': 'mean'})\n",
    "print(institutions_by_efforts)\n",
    "ax = sns.scatterplot(data=institutions_by_efforts, x=\"effort_mean\", y=\"weeks\", size=\"certificate\", legend=True, sizes=(20, 500))\n",
    "ax.set_title('Стоимость обучения в зависимости от длительности и трудоемкости')"
   ]
  },
  {
   "cell_type": "code",
   "execution_count": 210,
   "id": "2d265578",
   "metadata": {},
   "outputs": [
    {
     "name": "stdout",
     "output_type": "stream",
     "text": [
      "                                                    effort_mean  certificate  \\\n",
      "institution                                                                    \n",
      "Amazon Web Services                                    3.500000     149.0000   \n",
      "Boston University                                      4.500000     399.0000   \n",
      "Chalmers University of Technology                     15.000000     259.0000   \n",
      "Columbia University                                    9.000000     249.0000   \n",
      "Curtin University                                      9.000000     199.0000   \n",
      "Delft University of Technology                         8.666667     250.0000   \n",
      "Delft University of Technology-Wageningen Unive...     7.000000      49.0000   \n",
      "Harvard University                                     3.000000     149.0000   \n",
      "IBM                                                    3.000000      99.0000   \n",
      "Kyoto University                                       2.500000      49.0000   \n",
      "Massachusetts Institute of Technology                  9.958333     195.2500   \n",
      "NYIF                                                   2.500000     199.0000   \n",
      "Rochester Institute of Technology                      9.500000     199.5000   \n",
      "Stanford University                                    7.500000     139.0000   \n",
      "Tecnológico de Monterrey                               6.500000      62.2425   \n",
      "The International Monetary Fund                        9.000000      25.0000   \n",
      "The University of California, San Diego                9.666667     350.0000   \n",
      "The University of Maryland, College Park-Univer...     4.937500     204.6250   \n",
      "The University of Michigan                             7.500000     199.0000   \n",
      "The University of Michigan-Microsoft Education         3.000000     199.0000   \n",
      "The University of Queensland                           8.500000     237.0000   \n",
      "The University of Texas at Austin                     10.000000      49.0000   \n",
      "The World Wide Web Consortium (W3C)                    7.000000     199.0000   \n",
      "Tsinghua University                                    3.000000     139.0000   \n",
      "Universitat Politècnica de Valencia                    3.500000      75.0000   \n",
      "University System of Maryland-University of Mar...     9.000000     249.0000   \n",
      "University of British Columbia                         9.000000     125.0000   \n",
      "University of Pennsylvania                             9.000000     169.0000   \n",
      "University of Washington                               3.500000     199.0000   \n",
      "Université catholique de Louvain                       7.250000     150.0000   \n",
      "Wageningen University & Research                      18.600000     129.0000   \n",
      "Wellesley College                                      4.750000      49.0000   \n",
      "École polytechnique fédérale de Lausanne               4.500000     169.0000   \n",
      "\n",
      "                                                        weeks  \n",
      "institution                                                    \n",
      "Amazon Web Services                                  6.000000  \n",
      "Boston University                                    6.000000  \n",
      "Chalmers University of Technology                    7.000000  \n",
      "Columbia University                                 11.666667  \n",
      "Curtin University                                   12.000000  \n",
      "Delft University of Technology                       9.666667  \n",
      "Delft University of Technology-Wageningen Unive...   8.000000  \n",
      "Harvard University                                   4.333333  \n",
      "IBM                                                  5.000000  \n",
      "Kyoto University                                     4.000000  \n",
      "Massachusetts Institute of Technology               12.250000  \n",
      "NYIF                                                 6.000000  \n",
      "Rochester Institute of Technology                    8.500000  \n",
      "Stanford University                                  7.000000  \n",
      "Tecnológico de Monterrey                             4.250000  \n",
      "The International Monetary Fund                      6.000000  \n",
      "The University of California, San Diego             10.000000  \n",
      "The University of Maryland, College Park-Univer...   5.125000  \n",
      "The University of Michigan                           8.000000  \n",
      "The University of Michigan-Microsoft Education       6.000000  \n",
      "The University of Queensland                         9.000000  \n",
      "The University of Texas at Austin                   16.000000  \n",
      "The World Wide Web Consortium (W3C)                  4.000000  \n",
      "Tsinghua University                                  7.000000  \n",
      "Universitat Politècnica de Valencia                  8.000000  \n",
      "University System of Maryland-University of Mar...   8.000000  \n",
      "University of British Columbia                       6.000000  \n",
      "University of Pennsylvania                           8.000000  \n",
      "University of Washington                             4.000000  \n",
      "Université catholique de Louvain                    11.500000  \n",
      "Wageningen University & Research                     5.000000  \n",
      "Wellesley College                                   12.000000  \n",
      "École polytechnique fédérale de Lausanne             6.666667  \n"
     ]
    },
    {
     "data": {
      "text/plain": [
       "Text(0.5, 1.0, 'Стоимость обучения в зависимости от длительности и трудоемкости')"
      ]
     },
     "execution_count": 210,
     "metadata": {},
     "output_type": "execute_result"
    },
    {
     "data": {
      "image/png": "[encoded data removed]",
      "text/plain": [
       "<Figure size 864x576 with 1 Axes>"
      ]
     },
     "metadata": {
      "needs_background": "light"
     },
     "output_type": "display_data"
    }
   ],
   "source": [
    "# Видно, что требующие больше усилий курсы как правило дорогие (правая часть диаграммы)\n",
    "# Также видно, что в центре диаграммы (примерно 6 недель обучения при 4 часах усилий в неделю) много дорогих курсов.\n",
    "# Более продолжительные курсы по бОльшей части требуют меньше еженедельных усилий\n",
    "# Тем не менее не все тут однозначно.\n",
    "# Попробуем посмотреть то же самое только для углубленных курсов :\n",
    "cdf_3 = cdf[(cdf.Level == \"Advanced\")]\n",
    "institutions_by_efforts = cdf_3[['institution', 'effort_mean', 'certificate', 'weeks']].groupby('institution') \\\n",
    "    .agg({'effort_mean': 'mean', 'certificate': 'mean', 'weeks': 'mean'})\n",
    "print(institutions_by_efforts)\n",
    "ax = sns.scatterplot(data=institutions_by_efforts, x=\"effort_mean\", y=\"weeks\", size=\"certificate\", legend=True, sizes=(20, 500))\n",
    "ax.set_title('Стоимость обучения в зависимости от длительности и трудоемкости')"
   ]
  },
  {
   "cell_type": "code",
   "execution_count": null,
   "id": "7615a272",
   "metadata": {},
   "outputs": [],
   "source": [
    "# При таком фильтре картинка получается интереснее. Во-первых тут гораздо меньше дешевых сертификатов.\n",
    "# Во-вторых, видна зависимость: чем выше трудоемкость, тем дольше длится курс.\n",
    "# Наконец, можно увидеть две группы. Относительно легкие курсы, от 2.5 до 5 часов в неделю, длиной в пределах 8 недель\n",
    "# и группа чуть более дорогих курсов с нагрузкой от 7 до 11 часов в неделю, с учебой от 7 до 13 недель."
   ]
  }
 ],
 "metadata": {
  "kernelspec": {
   "display_name": "Python 3",
   "language": "python",
   "name": "python3"
  },
  "language_info": {
   "codemirror_mode": {
    "name": "ipython",
    "version": 3
   },
   "file_extension": ".py",
   "mimetype": "text/x-python",
   "name": "python",
   "nbconvert_exporter": "python",
   "pygments_lexer": "ipython3",
   "version": "3.8.8"
  }
 },
 "nbformat": 4,
 "nbformat_minor": 5
}
