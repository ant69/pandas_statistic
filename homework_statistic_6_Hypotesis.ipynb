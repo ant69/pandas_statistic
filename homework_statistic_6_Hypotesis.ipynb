{
 "cells": [
  {
   "cell_type": "markdown",
   "id": "1741fc54",
   "metadata": {},
   "source": [
    " # Домашнее задание\n",
    " ### Доверительные интервалы. Статистическая проверка гипотез для несвязанных выборок"
   ]
  },
  {
   "cell_type": "markdown",
   "id": "57d69049",
   "metadata": {},
   "source": [
    "<div class=\"alert alert-info\">\n",
    "<b>Задание № 1</b>\n",
    "\n",
    "Постройте `98% доверительный интервал` для среднего значения, если известно, что\n",
    "\n",
    "- объем выборки n = 25;\n",
    "- среднее значение по выборке $\\overline x$ = 130;\n",
    "- Из достоверных источников известно стандартное отклонение $\\sigma = 15$.\n",
    "    \n",
    "В ответ укажите длину полученного доверительного интервала (разницу между правым и левым концом), окруленную до целого\n",
    "</div>"
   ]
  },
  {
   "cell_type": "code",
   "execution_count": 15,
   "id": "9bcfd416",
   "metadata": {},
   "outputs": [],
   "source": [
    "import numpy as np  \n",
    "import pandas as pd  # для работы с таблицами\n",
    "from scipy import stats as st # При работе со статистикой\n",
    "import matplotlib.pyplot as plt  # Библиотека для визуализации результатов \n",
    "\n",
    "#увеличим дефолтный размер графиков\n",
    "from pylab import rcParams\n",
    "rcParams['figure.figsize'] = 12,8\n",
    "\n",
    "import seaborn as sns # Более продвинутая библиотека для визуализации"
   ]
  },
  {
   "cell_type": "markdown",
   "id": "563c320b",
   "metadata": {},
   "source": [
    "Используем следующую формулу:\n",
    "\n",
    "$$ \\Delta = \\frac{\\sigma}{\\sqrt{n}}Z $$\n",
    "\n",
    "- $\\Delta$ - допустимая ошибка/погрешность, \n",
    "\n",
    "- n - размер выборки\n",
    "\n",
    "- $\\sigma$ - стандартное отклонение, \n",
    "\n",
    "- Z - квантиль нормального распределения"
   ]
  },
  {
   "cell_type": "code",
   "execution_count": 8,
   "id": "3715bf19",
   "metadata": {},
   "outputs": [
    {
     "data": {
      "text/plain": [
       "12"
      ]
     },
     "execution_count": 8,
     "metadata": {},
     "output_type": "execute_result"
    }
   ],
   "source": [
    "### Вначале инициализируем исходные данные и вычисляем Z для заданного по условию задачи доверительного интервала 98%\n",
    "P = 0.98\n",
    "n = 25\n",
    "Sigma = 15\n",
    "data_mean = 130\n",
    "Z = st.norm.ppf(P)\n",
    "# Далее считаем допустимую погрешность по выше приведенной формуле\n",
    "Delta = Sigma*Z/n**.5\n",
    "\n",
    "# Фактически по условию задачи требуется в ответе указать удвоенное значение Delta, т.е. разницу (с округлением до целого)\n",
    "# (data_mean + Delta) - (data_mean + Delta) = 2*Delta\n",
    "\n",
    "#Запишите в эту переменную ваш высчитанный ответ!\n",
    "L = round(Delta * 2)\n",
    "L\n"
   ]
  },
  {
   "cell_type": "code",
   "execution_count": null,
   "id": "ac4e286b",
   "metadata": {},
   "outputs": [],
   "source": [
    " "
   ]
  },
  {
   "cell_type": "markdown",
   "id": "82f17224",
   "metadata": {},
   "source": [
    "### 2. Вам даны две выборки роста мужчин и женщин. Докажите, используя t-Тест Стьюдента, что различия между выборками незначительны, если уровень значимости равен 0.001"
   ]
  },
  {
   "cell_type": "markdown",
   "id": "a47a50a5",
   "metadata": {},
   "source": [
    "<div class=\"alert alert-info\">\n",
    "<b>Задание № 2</b>\n",
    "\n",
    "Даны две выборки роста мужчин и женщин. \n",
    "- Докажите, используя `t-Тест Стьдента`, что различие между выборками незначительно, если уровень значимости равен $\\alpha$ `= 0.001`.\n",
    "- Покажите различия визуально\n",
    "</div>"
   ]
  },
  {
   "cell_type": "code",
   "execution_count": 20,
   "id": "51fb2855",
   "metadata": {},
   "outputs": [
    {
     "data": {
      "text/plain": [
       "(3.6635841716708892, 0.00024875321033580573)"
      ]
     },
     "execution_count": 20,
     "metadata": {},
     "output_type": "execute_result"
    }
   ],
   "source": [
    "import scipy.stats as stats\n",
    "np.random.seed(42) #фиксация случайности\n",
    "\n",
    "men  = stats.norm.rvs(loc=171, scale=100, size=150000)  # Выборка мужчин со средним ростом 171\n",
    "women = stats.norm.rvs(loc=170, scale=100, size=150000)  # Выборка женщин со средним ростом 170\n",
    "#В двух строчках выше генерируются две выбороки, где loc это среднее значение, а scale это дисперсия\n",
    "\n",
    "### Ваш код...\n",
    "\n",
    "t, p_value = stats.ttest_ind(men, women) #Критерий Стьюдента (t-test)\n",
    "t, p_value\n",
    "# По условию задачи требуется доказать, что различие между выборками незначительно, если уровень значимости равен 0.001.\n",
    "# Мы можем прийти к этому выводу, если p_value окажется меньше этой величины, т.е. в этом случае мы должны отвергнуть гипотезу \n",
    "# о незначительности различий. Именно этот результат мы и получили - p_value почти в пять раз меньше заданного уровня значимости.\n",
    "# Или я не понял задачу и решил ее неверно, либо есть какие-то ошибки в формулировке задания."
   ]
  },
  {
   "cell_type": "code",
   "execution_count": 21,
   "id": "2e172b4b",
   "metadata": {},
   "outputs": [
    {
     "data": {
      "image/png": "[encoded data removed]",
      "text/plain": [
       "<Figure size 864x576 with 1 Axes>"
      ]
     },
     "metadata": {
      "needs_background": "light"
     },
     "output_type": "display_data"
    }
   ],
   "source": [
    "# При этом на графиках никаких особых отличий между распределенями я не вижу, т.е. при текущих условиях, \n",
    "# наложенных на формирование данных, выборки выглядят малоотличимыми, т.е. различия незначительны.\n",
    "plt.hist(men, bins=100); #Мужчины\n",
    "plt.hist(women, bins=100);  #Женщины"
   ]
  },
  {
   "cell_type": "markdown",
   "id": "f38bd905",
   "metadata": {},
   "source": [
    "### 3. Определите объем необходимой выборки для исследования среднего чека за кофе в случайном городе, если известно, что в этом городе стандартное отклонение = 150, уровень доверия = 95%. Погрешность 50 рублей. "
   ]
  },
  {
   "cell_type": "markdown",
   "id": "61161fec",
   "metadata": {},
   "source": [
    "<div class=\"alert alert-info\">\n",
    "<b>Задание № 3</b>\n",
    "\n",
    "Определите объем необходимой выборки для исследования среднего чека за кофе в случайном городе если известно, что в этом городе:\n",
    "\n",
    "- стандартное отклонение $\\sigma = 150$;\n",
    "- уровень доверия $\\beta$  = 95%;\n",
    "- Погрешность $\\Delta = 50$ рублей.\n",
    "</div>"
   ]
  },
  {
   "cell_type": "code",
   "execution_count": 26,
   "id": "152b258b",
   "metadata": {},
   "outputs": [
    {
     "data": {
      "text/plain": [
       "25"
      ]
     },
     "execution_count": 26,
     "metadata": {},
     "output_type": "execute_result"
    }
   ],
   "source": [
    "### Тут вычисления, обратные вычислению из первой задачи\n",
    "P = 0.95\n",
    "Sigma = 150\n",
    "Delta = 50\n",
    "# Вначале вычисляем квантиль для 95 процентов\n",
    "Z = st.norm.ppf(P)\n",
    "# Далее считаем искомую величину и увеличиваем до ближайшего целого\n",
    "n = round((Sigma*Z/Delta)**2) + 1\n",
    "n"
   ]
  },
  {
   "cell_type": "markdown",
   "id": "2d9a01c1",
   "metadata": {},
   "source": [
    "<div class=\"alert alert-info\">\n",
    "<b>Задание № 4</b>\n",
    "\n",
    "Представьте, что вы хотите разоблачить \"волшебника\" который считает, что умеет предсказывать погоду на завтра, отвечая просто: дождь или солнце. Вы пронаблюдали за ответами \"волшебника\" в течении какого-то периода времени и получили некие результаты (см.ниже).\n",
    "\n",
    "Можно ли сказать, что маг действительно умеет предсказывать погоду? Уровень значимости принять за `0.05` ($\\alpha=0.05$).\n",
    "</div>"
   ]
  },
  {
   "cell_type": "code",
   "execution_count": 27,
   "id": "0a9a908d",
   "metadata": {},
   "outputs": [
    {
     "data": {
      "text/html": [
       "<div>\n",
       "<style scoped>\n",
       "    .dataframe tbody tr th:only-of-type {\n",
       "        vertical-align: middle;\n",
       "    }\n",
       "\n",
       "    .dataframe tbody tr th {\n",
       "        vertical-align: top;\n",
       "    }\n",
       "\n",
       "    .dataframe thead th {\n",
       "        text-align: right;\n",
       "    }\n",
       "</style>\n",
       "<table border=\"1\" class=\"dataframe\">\n",
       "  <thead>\n",
       "    <tr style=\"text-align: right;\">\n",
       "      <th></th>\n",
       "      <th>Верные ответы волшебника</th>\n",
       "      <th>Неверные ответы</th>\n",
       "    </tr>\n",
       "  </thead>\n",
       "  <tbody>\n",
       "    <tr>\n",
       "      <th>Дождь</th>\n",
       "      <td>10</td>\n",
       "      <td>15</td>\n",
       "    </tr>\n",
       "    <tr>\n",
       "      <th>Солнце</th>\n",
       "      <td>39</td>\n",
       "      <td>34</td>\n",
       "    </tr>\n",
       "  </tbody>\n",
       "</table>\n",
       "</div>"
      ],
      "text/plain": [
       "        Верные ответы волшебника  Неверные ответы\n",
       "Дождь                         10               15\n",
       "Солнце                        39               34"
      ]
     },
     "execution_count": 27,
     "metadata": {},
     "output_type": "execute_result"
    }
   ],
   "source": [
    "observations = pd.DataFrame([[10, 15],[39, 34]],\n",
    "                            index=['Дождь','Солнце'],\n",
    "                            columns=['Верные ответы волшебника','Неверные ответы'])\n",
    "observations"
   ]
  },
  {
   "cell_type": "code",
   "execution_count": 28,
   "id": "7ff7161f",
   "metadata": {},
   "outputs": [
    {
     "data": {
      "text/plain": [
       "(0.5811965811965812, 0.35417955365927367)"
      ]
     },
     "execution_count": 28,
     "metadata": {},
     "output_type": "execute_result"
    }
   ],
   "source": [
    "import scipy.stats as stats\n",
    "# Учтите, что у стат. тестов, в том числе и точного теста Фишера под нулевой гипотезой подразумевается случайность/отсутствие эффекта\n",
    "\n",
    "### Ваш код...\n",
    "\n",
    "oddsratio, pvalue = st.fisher_exact(observations)\n",
    "oddsratio, pvalue\n"
   ]
  },
  {
   "cell_type": "code",
   "execution_count": null,
   "id": "3b0f6de9",
   "metadata": {},
   "outputs": [],
   "source": [
    "# Фактически мы получили чудовищно большое значение p_value (0.35), которое не дает нам никаких оснований для отвержения \n",
    "# нулевой гипотезы о том, что предсказатель - сказочник с хорошо подвешенным языком :) "
   ]
  },
  {
   "cell_type": "markdown",
   "id": "e379fb37",
   "metadata": {},
   "source": [
    "<div class=\"alert alert-info\">\n",
    "<b>Задание № 5</b> \n",
    "\n",
    "Используя функцию mean_confidence_interval(data, confidence), постройте доверительный интервал с уровнем доверия $\\beta = 90\\%$ для выборки:\n",
    "\n",
    "</div>"
   ]
  },
  {
   "cell_type": "code",
   "execution_count": 29,
   "id": "996f94ca",
   "metadata": {},
   "outputs": [
    {
     "name": "stdout",
     "output_type": "stream",
     "text": [
      "(6.074074746111319, 6.628571428571429, 7.183068111031539)\n"
     ]
    }
   ],
   "source": [
    "data = [4,5,8,9,6,7,5,6,7,8,5,6,7,0,9,8,4,6,\n",
    "        7,9,8,6,5,7,8,9,6,7,5,8,6,7,9,5,10]\n",
    "\n",
    "# Копия кода функции из учебного ноутбука\n",
    "def mean_confidence_interval(data, confidence=0.95): #Сложный пример реализации. Проще смотри в лекци. \n",
    "    n = len(data)\n",
    "    m, se = np.mean(data), stats.sem(data)\n",
    "    h = se * stats.t.ppf((1 + confidence)/2, n)  #  функция ppf из scipy возвращает нам перцентиль\n",
    "    return m-h, m, m+h \n",
    "\n",
    "### Ваш код...\n",
    "print(mean_confidence_interval(data, 0.9))\n",
    "# Первая и третья цифры показывают начало и конец диапазона значений доверительного интервала, а вторая цифра - среднее"
   ]
  },
  {
   "cell_type": "markdown",
   "id": "84ee87b6",
   "metadata": {},
   "source": [
    "<div class=\"alert alert-info\">\n",
    "<b>Задание № 6</b>\n",
    "\n",
    "Принадлежат ли выборки `A` и `B` одному множеству? \n",
    "    \n",
    "- Оцените это с помощью известных вам тестов для проверок статистических гипотез;\n",
    "- Покажите различия визуально.\n",
    "</div>"
   ]
  },
  {
   "cell_type": "code",
   "execution_count": 30,
   "id": "74293613",
   "metadata": {},
   "outputs": [
    {
     "data": {
      "text/plain": [
       "(11.865233896372924, 4.623319592204015e-25)"
      ]
     },
     "execution_count": 30,
     "metadata": {},
     "output_type": "execute_result"
    }
   ],
   "source": [
    "A = [4,5,8,9,6,7,5,6,7,6,8,5,6,7,8,4,\n",
    "    6,7,9,8,6,5,7,8,6,7,5,6,8,6,7,5,\n",
    "    4,5,8,9,6,7,5,6,7,6,8,5,6,7,8,4,\n",
    "    6,7,9,8,6,5,7,8,6,7,5,6,8,6,7,5,\n",
    "    4,5,8,9,6,7,5,6,7,6,8,5,6,7,8,4,\n",
    "    6,7,9,8,6,5,7,8,6,7,5,6,8,6,7,5,\n",
    "    4,5,8,9,6,7,5,6,7,6,8,5,6,7,8,4]\n",
    "\n",
    "B = [5,6,7,8,4,6,7,2,6,5,7,5,3,5,3,\n",
    "    5,3,5,5,8,7,6,4,5,3,5,4,6,4,5,3,\n",
    "    2,6,4,3,5,4,3,4,5,4,3,4,5,4,3,4,\n",
    "    2,6,4,3,5,4,3,4,5,4,3,4,5,4,3,4,\n",
    "    3,4,4,1,2,4,3,2,4,3,2,1,5,3,4,6,\n",
    "    3,2,4,5,6,4,3,3,5,3,4,4,4,2,5,3]\n",
    " \n",
    "\n",
    "#Ваш код:\n",
    "# Вначале \"в лоб\" используем критерий Стьюдента (t-test)\n",
    "t, p_value = stats.ttest_ind(A, B) #Критерий Стьюдента (t-test)\n",
    "t, p_value"
   ]
  },
  {
   "cell_type": "code",
   "execution_count": 37,
   "id": "7200baaf",
   "metadata": {},
   "outputs": [
    {
     "name": "stdout",
     "output_type": "stream",
     "text": [
      "6.446428571428571\n",
      "4.147368421052631\n"
     ]
    }
   ],
   "source": [
    "# Результаты этой проверки показывают, что выборки с большой вероятностью очень сильно отличаются.\n",
    "# p-value фактически стремится к нулю, также высоко и значение t.\n",
    "# Проверим это, вычислив средние по выборкам\n",
    "print(sum(A)/len(A))\n",
    "print(sum(B)/len(B))"
   ]
  },
  {
   "cell_type": "code",
   "execution_count": 42,
   "id": "3473fd57",
   "metadata": {},
   "outputs": [
    {
     "data": {
      "image/png": "[encoded data removed]",
      "text/plain": [
       "<Figure size 864x576 with 1 Axes>"
      ]
     },
     "metadata": {
      "needs_background": "light"
     },
     "output_type": "display_data"
    }
   ],
   "source": [
    "plt.hist(B, bins=10); #Выборка A\n",
    "plt.hist(A, bins=10);  #Выборка B\n",
    "# Хорошо видно, что выборки по набору данных похожи на выборки с нормальным распределением, а их средние сдвинуты"
   ]
  },
  {
   "cell_type": "markdown",
   "id": "43665a35",
   "metadata": {},
   "source": [
    "<div class=\"alert alert-info\">\n",
    "<b>Задание № 7 (задание без подвоха)</b>\n",
    "\n",
    "На примере датасета про жилье в New York City, мы сталкивались с примером, когда переменная имеет не совсем нормальное распределение. \n",
    "\n",
    "- Предположим, Вы сформировали две гипотезы:\n",
    "    - нулевая гипотеза - распределение нормальное;\n",
    "    - альтернативная гипотеза - распределение ненормальное.\n",
    "- допустим, вы применили какой-то тест (сейчас неважно какой), который показал уровень значимости  `p-value = 0.03`. Каковы будут ваши выводы? Будем считать что у нас нормальное распределение или все-таки нет?)\n",
    "    \n",
    "</div>"
   ]
  },
  {
   "cell_type": "code",
   "execution_count": null,
   "id": "a530de36",
   "metadata": {},
   "outputs": [],
   "source": [
    "### Ваши выводы:\n",
    "# Поскольку значение p-value в нашем случае равно 0.03 и оно меньше 0.05, мы имеем право отвергнуть нулевую гипотезу.\n",
    "# Поскольку нулевая гипотеза утверждает, что распределение - нормальное, \n",
    "# мы считаем, что альтернативная гипотеза о ненормальном распределении заслуживает внимания в бОльшей степени."
   ]
  },
  {
   "cell_type": "markdown",
   "id": "5bee5b84",
   "metadata": {},
   "source": [
    "<div class=\"alert alert-info\">\n",
    "<b>Задание № 8</b>\n",
    "    \n",
    "Первая выборка — это пациенты, которых лечили препаратом `А`.  Вторая выборка — пациенты, которых лечили препаратом `B`.\n",
    "\n",
    "Значения в выборках — это некоторая характеристика эффективности лечения (уровень метаболита в крови, температура через три дня после начала лечения, срок выздоровления, число койко-дней, и т.д.) \n",
    "\n",
    "- Требуется выяснить, имеется ли значимое различие эффективности препаратов `А` и `B`, или различия являются чисто случайными и объясняются «естественной» дисперсией выбранной характеристики?  (`уровень значимости принять за 0.05 (5%)`)\n",
    "\n",
    "- При каком минимальном p-value различия были бы уже значимы? \n",
    "    \n",
    "- Если выборки незначительно отличаются, то продемонстрируйте это визуально\n",
    "</div>"
   ]
  },
  {
   "cell_type": "code",
   "execution_count": 51,
   "id": "23e91ccd",
   "metadata": {},
   "outputs": [
    {
     "data": {
      "text/plain": [
       "(-1.95300880485141, 0.051284593140469285)"
      ]
     },
     "execution_count": 51,
     "metadata": {},
     "output_type": "execute_result"
    }
   ],
   "source": [
    "np.random.seed(11)\n",
    "A = stats.norm.rvs(scale=15, loc=169, size=300)\n",
    "B = stats.norm.rvs(scale=14, loc=171.4, size=300)\n",
    "\n",
    "### Ваш код:\n",
    "# Подсказка, обратите внимание на Two-sample T-test\n",
    "t, p_value = stats.ttest_ind(A, B) #Критерий Стьюдента (t-test)\n",
    "t, p_value"
   ]
  },
  {
   "cell_type": "code",
   "execution_count": 53,
   "id": "b8cb4d3c",
   "metadata": {},
   "outputs": [
    {
     "data": {
      "image/png": "[encoded data removed]",
      "text/plain": [
       "<Figure size 864x576 with 1 Axes>"
      ]
     },
     "metadata": {
      "needs_background": "light"
     },
     "output_type": "display_data"
    }
   ],
   "source": [
    "# При выбранном уровне значимости в 0.05 вычисленное значение p-value совсем незначительно, но превышает 0.05.\n",
    "# В этой связи нельзя отвергнуть нулевую гипотезу о том, что препараты A и B не отличаются по своей эффективности.\n",
    "# Формально при любом p, которое было бы меньше 0.05, можно было бы говорить о том, что различия становятся значимыми.\n",
    "# В условиях задачи рекомендовано продемонстрировать различия выборок визуально, если они отличаются, но они не отличаются :)\n",
    "# Тем не менее посмотрим, как это выглядит:\n",
    "plt.hist(B, bins=20); #Выборка A\n",
    "plt.hist(A, bins=20);  #Выборка B\n",
    "# Действительно, явных различий в распределении данных не заметно."
   ]
  }
 ],
 "metadata": {
  "kernelspec": {
   "display_name": "Python 3",
   "language": "python",
   "name": "python3"
  },
  "language_info": {
   "codemirror_mode": {
    "name": "ipython",
    "version": 3
   },
   "file_extension": ".py",
   "mimetype": "text/x-python",
   "name": "python",
   "nbconvert_exporter": "python",
   "pygments_lexer": "ipython3",
   "version": "3.8.8"
  }
 },
 "nbformat": 4,
 "nbformat_minor": 5
}
