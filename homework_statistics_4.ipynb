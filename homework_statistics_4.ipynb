{
 "cells": [
  {
   "cell_type": "markdown",
   "id": "fcfdb93d",
   "metadata": {},
   "source": [
    "# Задание\n",
    "Возьмите датасет Mortality and Water Hardnesshttps://www.kaggle.com/ukveteran/mortality-and-water-hardness\n",
    "\n",
    "В этом датасете содержатся данные по средней годовой смертности на 100000 населения и концентрации кальция в питьевой воде для 61 большого города в Англии и Уэльсе. Города дополнительно поделены на северные и южные.\n",
    "\n",
    "### 1.Задача - ответить на вопрос есть ли связь между жёсткостью воды и средней годовой смертностью?\n",
    "- 1.1 Построить точечный график\n",
    "- 1.2 Рассчитать коэффициенты корреляции Пирсона и Спирмена\n",
    "- 1.3 Построить модель линейной регрессии\n",
    "- 1.4 Рассчитать коэффициент детерминации\n",
    "- 1.5 Вывести график остатков\n",
    "\n",
    "### 2.Сохраняется ли аналогичная зависимость для северных и южных городов по отдельности?\n",
    "- 2.1 Разделить данные на 2 группы\n",
    "- 2.2 Повторить аналогичные шаги из пункта 1 для каждой группы по отдельности\n"
   ]
  },
  {
   "cell_type": "markdown",
   "id": "f3e9ef58",
   "metadata": {},
   "source": [
    "___\n",
    "## Решение"
   ]
  },
  {
   "cell_type": "code",
   "execution_count": 3,
   "id": "8930b0e0",
   "metadata": {},
   "outputs": [],
   "source": [
    "from sklearn.datasets import load_boston\n",
    "import pandas as pd\n",
    "import matplotlib.pyplot as plt\n",
    "import seaborn as sns"
   ]
  },
  {
   "cell_type": "code",
   "execution_count": 4,
   "id": "3af43d61",
   "metadata": {},
   "outputs": [],
   "source": [
    "# нужный датасет встроен в библиотеку sklearn\n",
    "free_water = pd.read_csv('https://raw.githubusercontent.com/ant69/pandas_statistic/main/water.csv')"
   ]
  },
  {
   "cell_type": "code",
   "execution_count": 5,
   "id": "c512a045",
   "metadata": {},
   "outputs": [
    {
     "data": {
      "text/html": [
       "<div>\n",
       "<style scoped>\n",
       "    .dataframe tbody tr th:only-of-type {\n",
       "        vertical-align: middle;\n",
       "    }\n",
       "\n",
       "    .dataframe tbody tr th {\n",
       "        vertical-align: top;\n",
       "    }\n",
       "\n",
       "    .dataframe thead th {\n",
       "        text-align: right;\n",
       "    }\n",
       "</style>\n",
       "<table border=\"1\" class=\"dataframe\">\n",
       "  <thead>\n",
       "    <tr style=\"text-align: right;\">\n",
       "      <th></th>\n",
       "      <th>Unnamed: 0</th>\n",
       "      <th>location</th>\n",
       "      <th>town</th>\n",
       "      <th>mortality</th>\n",
       "      <th>hardness</th>\n",
       "    </tr>\n",
       "  </thead>\n",
       "  <tbody>\n",
       "    <tr>\n",
       "      <th>0</th>\n",
       "      <td>1</td>\n",
       "      <td>South</td>\n",
       "      <td>Bath</td>\n",
       "      <td>1247</td>\n",
       "      <td>105</td>\n",
       "    </tr>\n",
       "    <tr>\n",
       "      <th>1</th>\n",
       "      <td>2</td>\n",
       "      <td>North</td>\n",
       "      <td>Birkenhead</td>\n",
       "      <td>1668</td>\n",
       "      <td>17</td>\n",
       "    </tr>\n",
       "    <tr>\n",
       "      <th>2</th>\n",
       "      <td>3</td>\n",
       "      <td>South</td>\n",
       "      <td>Birmingham</td>\n",
       "      <td>1466</td>\n",
       "      <td>5</td>\n",
       "    </tr>\n",
       "    <tr>\n",
       "      <th>3</th>\n",
       "      <td>4</td>\n",
       "      <td>North</td>\n",
       "      <td>Blackburn</td>\n",
       "      <td>1800</td>\n",
       "      <td>14</td>\n",
       "    </tr>\n",
       "    <tr>\n",
       "      <th>4</th>\n",
       "      <td>5</td>\n",
       "      <td>North</td>\n",
       "      <td>Blackpool</td>\n",
       "      <td>1609</td>\n",
       "      <td>18</td>\n",
       "    </tr>\n",
       "  </tbody>\n",
       "</table>\n",
       "</div>"
      ],
      "text/plain": [
       "   Unnamed: 0 location        town  mortality  hardness\n",
       "0           1    South        Bath       1247       105\n",
       "1           2    North  Birkenhead       1668        17\n",
       "2           3    South  Birmingham       1466         5\n",
       "3           4    North   Blackburn       1800        14\n",
       "4           5    North   Blackpool       1609        18"
      ]
     },
     "execution_count": 5,
     "metadata": {},
     "output_type": "execute_result"
    }
   ],
   "source": [
    "free_water.head()"
   ]
  },
  {
   "cell_type": "code",
   "execution_count": 14,
   "id": "4eae4341",
   "metadata": {},
   "outputs": [
    {
     "data": {
      "text/html": [
       "<div>\n",
       "<style scoped>\n",
       "    .dataframe tbody tr th:only-of-type {\n",
       "        vertical-align: middle;\n",
       "    }\n",
       "\n",
       "    .dataframe tbody tr th {\n",
       "        vertical-align: top;\n",
       "    }\n",
       "\n",
       "    .dataframe thead th {\n",
       "        text-align: right;\n",
       "    }\n",
       "</style>\n",
       "<table border=\"1\" class=\"dataframe\">\n",
       "  <thead>\n",
       "    <tr style=\"text-align: right;\">\n",
       "      <th></th>\n",
       "      <th>Unnamed: 0</th>\n",
       "      <th>mortality</th>\n",
       "      <th>hardness</th>\n",
       "    </tr>\n",
       "  </thead>\n",
       "  <tbody>\n",
       "    <tr>\n",
       "      <th>count</th>\n",
       "      <td>61.000000</td>\n",
       "      <td>61.000000</td>\n",
       "      <td>61.000000</td>\n",
       "    </tr>\n",
       "    <tr>\n",
       "      <th>mean</th>\n",
       "      <td>31.000000</td>\n",
       "      <td>1524.147541</td>\n",
       "      <td>47.180328</td>\n",
       "    </tr>\n",
       "    <tr>\n",
       "      <th>std</th>\n",
       "      <td>17.752934</td>\n",
       "      <td>187.668754</td>\n",
       "      <td>38.093966</td>\n",
       "    </tr>\n",
       "    <tr>\n",
       "      <th>min</th>\n",
       "      <td>1.000000</td>\n",
       "      <td>1096.000000</td>\n",
       "      <td>5.000000</td>\n",
       "    </tr>\n",
       "    <tr>\n",
       "      <th>25%</th>\n",
       "      <td>16.000000</td>\n",
       "      <td>1379.000000</td>\n",
       "      <td>14.000000</td>\n",
       "    </tr>\n",
       "    <tr>\n",
       "      <th>50%</th>\n",
       "      <td>31.000000</td>\n",
       "      <td>1555.000000</td>\n",
       "      <td>39.000000</td>\n",
       "    </tr>\n",
       "    <tr>\n",
       "      <th>75%</th>\n",
       "      <td>46.000000</td>\n",
       "      <td>1668.000000</td>\n",
       "      <td>75.000000</td>\n",
       "    </tr>\n",
       "    <tr>\n",
       "      <th>max</th>\n",
       "      <td>61.000000</td>\n",
       "      <td>1987.000000</td>\n",
       "      <td>138.000000</td>\n",
       "    </tr>\n",
       "  </tbody>\n",
       "</table>\n",
       "</div>"
      ],
      "text/plain": [
       "       Unnamed: 0    mortality    hardness\n",
       "count   61.000000    61.000000   61.000000\n",
       "mean    31.000000  1524.147541   47.180328\n",
       "std     17.752934   187.668754   38.093966\n",
       "min      1.000000  1096.000000    5.000000\n",
       "25%     16.000000  1379.000000   14.000000\n",
       "50%     31.000000  1555.000000   39.000000\n",
       "75%     46.000000  1668.000000   75.000000\n",
       "max     61.000000  1987.000000  138.000000"
      ]
     },
     "execution_count": 14,
     "metadata": {},
     "output_type": "execute_result"
    }
   ],
   "source": [
    "free_water.describe()\n",
    "# В датасете всего 61 строка, т.е. данных относительно мало. Это снижает надежность последующих оценок"
   ]
  },
  {
   "cell_type": "code",
   "execution_count": 8,
   "id": "35e30dc9",
   "metadata": {},
   "outputs": [
    {
     "data": {
      "text/plain": [
       "<AxesSubplot:xlabel='hardness', ylabel='mortality'>"
      ]
     },
     "execution_count": 8,
     "metadata": {},
     "output_type": "execute_result"
    },
    {
     "data": {
      "image/png": "[encoded data removed]",
      "text/plain": [
       "<Figure size 432x288 with 1 Axes>"
      ]
     },
     "metadata": {
      "needs_background": "light"
     },
     "output_type": "display_data"
    }
   ],
   "source": [
    "# 1.1 Смотрим, как \"ложатся\" данные по жесткости воды (ось x) и уровню годовой смертности (ось y)\n",
    "free_water.plot(kind='scatter', x='hardness', y='mortality')\n",
    "\n",
    "# Первое впечатление после просмотра диаграммы - присутствует обратная корреляция. Будем проверять :)"
   ]
  },
  {
   "cell_type": "code",
   "execution_count": 9,
   "id": "56fd4783",
   "metadata": {},
   "outputs": [
    {
     "data": {
      "text/html": [
       "<div>\n",
       "<style scoped>\n",
       "    .dataframe tbody tr th:only-of-type {\n",
       "        vertical-align: middle;\n",
       "    }\n",
       "\n",
       "    .dataframe tbody tr th {\n",
       "        vertical-align: top;\n",
       "    }\n",
       "\n",
       "    .dataframe thead th {\n",
       "        text-align: right;\n",
       "    }\n",
       "</style>\n",
       "<table border=\"1\" class=\"dataframe\">\n",
       "  <thead>\n",
       "    <tr style=\"text-align: right;\">\n",
       "      <th></th>\n",
       "      <th>hardness</th>\n",
       "      <th>mortality</th>\n",
       "    </tr>\n",
       "  </thead>\n",
       "  <tbody>\n",
       "    <tr>\n",
       "      <th>hardness</th>\n",
       "      <td>1.000000</td>\n",
       "      <td>-0.654849</td>\n",
       "    </tr>\n",
       "    <tr>\n",
       "      <th>mortality</th>\n",
       "      <td>-0.654849</td>\n",
       "      <td>1.000000</td>\n",
       "    </tr>\n",
       "  </tbody>\n",
       "</table>\n",
       "</div>"
      ],
      "text/plain": [
       "           hardness  mortality\n",
       "hardness   1.000000  -0.654849\n",
       "mortality -0.654849   1.000000"
      ]
     },
     "execution_count": 9,
     "metadata": {},
     "output_type": "execute_result"
    }
   ],
   "source": [
    "# 1.2 Считаем коэффициенты корреляции \n",
    "# Пирсона\n",
    "free_water[['hardness', 'mortality']].corr()"
   ]
  },
  {
   "cell_type": "code",
   "execution_count": 10,
   "id": "bfd43cfb",
   "metadata": {},
   "outputs": [
    {
     "data": {
      "text/html": [
       "<div>\n",
       "<style scoped>\n",
       "    .dataframe tbody tr th:only-of-type {\n",
       "        vertical-align: middle;\n",
       "    }\n",
       "\n",
       "    .dataframe tbody tr th {\n",
       "        vertical-align: top;\n",
       "    }\n",
       "\n",
       "    .dataframe thead th {\n",
       "        text-align: right;\n",
       "    }\n",
       "</style>\n",
       "<table border=\"1\" class=\"dataframe\">\n",
       "  <thead>\n",
       "    <tr style=\"text-align: right;\">\n",
       "      <th></th>\n",
       "      <th>hardness</th>\n",
       "      <th>mortality</th>\n",
       "    </tr>\n",
       "  </thead>\n",
       "  <tbody>\n",
       "    <tr>\n",
       "      <th>hardness</th>\n",
       "      <td>1.000000</td>\n",
       "      <td>-0.631665</td>\n",
       "    </tr>\n",
       "    <tr>\n",
       "      <th>mortality</th>\n",
       "      <td>-0.631665</td>\n",
       "      <td>1.000000</td>\n",
       "    </tr>\n",
       "  </tbody>\n",
       "</table>\n",
       "</div>"
      ],
      "text/plain": [
       "           hardness  mortality\n",
       "hardness   1.000000  -0.631665\n",
       "mortality -0.631665   1.000000"
      ]
     },
     "execution_count": 10,
     "metadata": {},
     "output_type": "execute_result"
    }
   ],
   "source": [
    "\n",
    "# Спирмана\n",
    "free_water[['hardness', 'mortality']].corr(method='spearman')"
   ]
  },
  {
   "cell_type": "code",
   "execution_count": 11,
   "id": "6cd179ec",
   "metadata": {},
   "outputs": [
    {
     "data": {
      "text/html": [
       "<div>\n",
       "<style scoped>\n",
       "    .dataframe tbody tr th:only-of-type {\n",
       "        vertical-align: middle;\n",
       "    }\n",
       "\n",
       "    .dataframe tbody tr th {\n",
       "        vertical-align: top;\n",
       "    }\n",
       "\n",
       "    .dataframe thead th {\n",
       "        text-align: right;\n",
       "    }\n",
       "</style>\n",
       "<table border=\"1\" class=\"dataframe\">\n",
       "  <thead>\n",
       "    <tr style=\"text-align: right;\">\n",
       "      <th></th>\n",
       "      <th>hardness</th>\n",
       "      <th>mortality</th>\n",
       "    </tr>\n",
       "  </thead>\n",
       "  <tbody>\n",
       "    <tr>\n",
       "      <th>hardness</th>\n",
       "      <td>1.000000</td>\n",
       "      <td>-0.453753</td>\n",
       "    </tr>\n",
       "    <tr>\n",
       "      <th>mortality</th>\n",
       "      <td>-0.453753</td>\n",
       "      <td>1.000000</td>\n",
       "    </tr>\n",
       "  </tbody>\n",
       "</table>\n",
       "</div>"
      ],
      "text/plain": [
       "           hardness  mortality\n",
       "hardness   1.000000  -0.453753\n",
       "mortality -0.453753   1.000000"
      ]
     },
     "execution_count": 11,
     "metadata": {},
     "output_type": "execute_result"
    }
   ],
   "source": [
    "# Заодно смотрим коэффициент по Кендаллу\n",
    "free_water[['hardness', 'mortality']].corr(method='kendall')\n",
    "\n",
    "# Пока ощущение присутствия обратной корреляции скорее подтверждается"
   ]
  },
  {
   "cell_type": "code",
   "execution_count": 12,
   "id": "fde65105",
   "metadata": {},
   "outputs": [],
   "source": [
    "# 1.3 Займемся построением модели регрессии\n",
    "from sklearn.linear_model import LinearRegression\n",
    "from sklearn.model_selection import train_test_split"
   ]
  },
  {
   "cell_type": "code",
   "execution_count": 13,
   "id": "6ad48f44",
   "metadata": {},
   "outputs": [],
   "source": [
    "# Будем строить регрессионную модель, которая позволит по уровню жесткости воды строить прогноз по уровню смертности\n",
    "X = free_water[['hardness']]\n",
    "y = free_water['mortality']"
   ]
  },
  {
   "cell_type": "code",
   "execution_count": 15,
   "id": "b93649f6",
   "metadata": {},
   "outputs": [],
   "source": [
    "# Поскольку в датасете всего 61 строка, оставим для тестовой выборки 20 процентов строк (всего 12 или 13 - далее проверим)\n",
    "X_train, X_test, y_train, y_test = train_test_split(X, y, test_size=0.20, random_state=1)"
   ]
  },
  {
   "cell_type": "code",
   "execution_count": 16,
   "id": "cf85f485",
   "metadata": {},
   "outputs": [
    {
     "data": {
      "text/plain": [
       "(48, 1)"
      ]
     },
     "execution_count": 16,
     "metadata": {},
     "output_type": "execute_result"
    }
   ],
   "source": [
    "# Проверяем размерность \"тренировочного\" набора данных\n",
    "X_train.shape"
   ]
  },
  {
   "cell_type": "code",
   "execution_count": 17,
   "id": "0c675366",
   "metadata": {},
   "outputs": [
    {
     "data": {
      "text/plain": [
       "LinearRegression()"
      ]
     },
     "execution_count": 17,
     "metadata": {},
     "output_type": "execute_result"
    }
   ],
   "source": [
    "# Создаем модель и \"тренируем\" её на наших немногочисленных данных\n",
    "mortal_water = LinearRegression()\n",
    "mortal_water.fit(X_train, y_train)"
   ]
  },
  {
   "cell_type": "code",
   "execution_count": 20,
   "id": "0600b92b",
   "metadata": {},
   "outputs": [
    {
     "name": "stdout",
     "output_type": "stream",
     "text": [
      "[-3.55069083]\n",
      "1691.1393811574978\n"
     ]
    }
   ],
   "source": [
    "# Смотрим на коэффициенты полученной модели линейной регрессии\n",
    "print(mortal_water.coef_)\n",
    "print(mortal_water.intercept_)\n",
    "# -3.55 определяет отрицательный угол наклона прямой, а 1691 - уровень смертности при нулевой жесткости воды"
   ]
  },
  {
   "cell_type": "code",
   "execution_count": 28,
   "id": "66a50928",
   "metadata": {},
   "outputs": [
    {
     "name": "stdout",
     "output_type": "stream",
     "text": [
      "[1670. 1645. 1673. 1425. 1645. 1634. 1219. 1670. 1333. 1372. 1368. 1645.\n",
      " 1641.]\n",
      "[1696, 1711, 1466, 1587, 1557, 1591, 1259, 1724, 1236, 1456, 1569, 1625, 1495]\n"
     ]
    }
   ],
   "source": [
    "# Предскажем значения, а потом сравним предсказанные и реальные данные (слегка их округлив)\n",
    "y_pred = mortal_water.predict(X_test)\n",
    "print(y_pred.round(0))\n",
    "print(y_test.tolist())\n",
    "# Если честно, результаты - так себе"
   ]
  },
  {
   "cell_type": "code",
   "execution_count": 29,
   "id": "cdcb6aba",
   "metadata": {},
   "outputs": [
    {
     "data": {
      "text/plain": [
       "0.4161677592825127"
      ]
     },
     "execution_count": 29,
     "metadata": {},
     "output_type": "execute_result"
    }
   ],
   "source": [
    "# 1.4 Рассчитаем коэффициент детерминации\n",
    "mortal_water.score(X_test, y_test)"
   ]
  },
  {
   "cell_type": "markdown",
   "id": "bdb3c9ca",
   "metadata": {},
   "source": [
    "Судя по тексту, найденному здесь http://www.machinelearning.ru/wiki/index.php?title=%D0%9A%D0%BE%D1%8D%D1%84%D1%84%D0%B8%D1%86%D0%B8%D0%B5%D0%BD%D1%82_%D0%B4%D0%B5%D1%82%D0%B5%D1%80%D0%BC%D0%B8%D0%BD%D0%B0%D1%86%D0%B8%D0%B8,\n",
    "в нашем случае модель получилась так себе. Ниже - цитата:\n",
    "\n",
    "«Коэффициент детерминации для модели с константой принимает значения от 0 до 1. Чем ближе значение коэффициента к 1, тем сильнее зависимость. При оценке регрессионных моделей это интерпретируется как соответствие модели данным. Для приемлемых моделей предполагается, что коэффициент детерминации должен быть хотя бы не меньше 50% (в этом случае коэффициент множественной корреляции превышает по модулю 70%). Модели с коэффициентом детерминации выше 80% можно признать достаточно хорошими (коэффициент корреляции превышает 90%). Равенство коэффициента детерминации единице означает, что объясняемая переменная в точности описывается рассматриваемой моделью.»"
   ]
  },
  {
   "cell_type": "code",
   "execution_count": 70,
   "id": "6d476e2f",
   "metadata": {},
   "outputs": [
    {
     "data": {
      "text/plain": [
       "(array([ 1.,  1.,  6., 13., 10.,  7.,  9.,  9.,  2.,  3.]),\n",
       " array([-356.57487368, -288.49077176, -220.40666985, -152.32256793,\n",
       "         -84.23846601,  -16.15436409,   51.92973783,  120.01383974,\n",
       "         188.09794166,  256.18204358,  324.2661455 ]),\n",
       " <BarContainer object of 10 artists>)"
      ]
     },
     "execution_count": 70,
     "metadata": {},
     "output_type": "execute_result"
    },
    {
     "data": {
      "image/png": "[encoded data removed]",
      "text/plain": [
       "<Figure size 432x288 with 1 Axes>"
      ]
     },
     "metadata": {
      "needs_background": "light"
     },
     "output_type": "display_data"
    }
   ],
   "source": [
    "# 1.5 Выведем график остатков\n",
    "# Вначале подсчитаем по каждому городу выборки предсказанную смертность для текущей жесткости\n",
    "y_all_pred = mortal_water.predict(X)\n",
    "# Считаем разность между предсказанным и реальным значениями смертности\n",
    "y_dif = y.tolist() - y_all_pred\n",
    "# Смотрим диаграмму распределения остатков\n",
    "plt.hist(y_dif)\n",
    "\n",
    "# Учитывая количество данных в выборке можно сравнить получившееся распредление с нормальным, но с некоторой натяжкой."
   ]
  },
  {
   "cell_type": "markdown",
   "id": "4c490f60",
   "metadata": {},
   "source": [
    "## Вторая часть\n",
    "То же самое, но отдельно для северных и южных городов"
   ]
  },
  {
   "cell_type": "code",
   "execution_count": 45,
   "id": "e4b8fd4d",
   "metadata": {},
   "outputs": [
    {
     "name": "stdout",
     "output_type": "stream",
     "text": [
      "   Unnamed: 0 location        town  mortality  hardness\n",
      "1           2    North  Birkenhead       1668        17\n",
      "3           4    North   Blackburn       1800        14\n",
      "4           5    North   Blackpool       1609        18\n",
      "5           6    North      Bolton       1558        10\n",
      "6           7    North      Bootle       1807        15\n",
      "       Unnamed: 0    mortality   hardness\n",
      "count   35.000000    35.000000  35.000000\n",
      "mean    30.742857  1633.600000  30.400000\n",
      "std     17.254740   136.936911  26.134494\n",
      "min      2.000000  1378.000000   6.000000\n",
      "25%     17.500000  1557.500000  12.500000\n",
      "50%     30.000000  1637.000000  17.000000\n",
      "75%     45.500000  1718.000000  44.000000\n",
      "max     61.000000  1987.000000  94.000000\n",
      "    Unnamed: 0 location         town  mortality  hardness\n",
      "0            1    South         Bath       1247       105\n",
      "2            3    South   Birmingham       1466         5\n",
      "7            8    South  Bournemouth       1299        78\n",
      "9           10    South     Brighton       1359        84\n",
      "10          11    South      Bristol       1392        73\n",
      "       Unnamed: 0    mortality    hardness\n",
      "count   26.000000    26.000000   26.000000\n",
      "mean    31.346154  1376.807692   69.769231\n",
      "std     18.742342   140.269175   40.360682\n",
      "min      1.000000  1096.000000    5.000000\n",
      "25%     14.250000  1259.250000   40.250000\n",
      "50%     33.500000  1364.000000   75.500000\n",
      "75%     46.500000  1485.750000   99.750000\n",
      "max     60.000000  1627.000000  138.000000\n"
     ]
    }
   ],
   "source": [
    "# Вначале разделяем данные и смотрим на получившиеся выборки\n",
    "northern_towns = free_water[free_water.location == 'North']\n",
    "print(northern_towns.head())\n",
    "print(northern_towns.describe())\n",
    "southern_towns = free_water[free_water.location == 'South']\n",
    "print(southern_towns.head())\n",
    "print(southern_towns.describe())"
   ]
  },
  {
   "cell_type": "code",
   "execution_count": 46,
   "id": "ff9c89be",
   "metadata": {},
   "outputs": [
    {
     "data": {
      "text/plain": [
       "<AxesSubplot:xlabel='hardness', ylabel='mortality'>"
      ]
     },
     "execution_count": 46,
     "metadata": {},
     "output_type": "execute_result"
    },
    {
     "data": {
      "image/png": "[encoded data removed]",
      "text/plain": [
       "<Figure size 432x288 with 1 Axes>"
      ]
     },
     "metadata": {
      "needs_background": "light"
     },
     "output_type": "display_data"
    }
   ],
   "source": [
    "# Северных городов 35. Смотрим, как распределяются данные по жесткости воды и смертности для них\n",
    "# 1.1 Жесткость воды (ось x) vs уровень годовой смертности (ось y)\n",
    "northern_towns.plot(kind='scatter', x='hardness', y='mortality')"
   ]
  },
  {
   "cell_type": "code",
   "execution_count": 47,
   "id": "708c7c3f",
   "metadata": {},
   "outputs": [
    {
     "data": {
      "text/plain": [
       "<AxesSubplot:xlabel='hardness', ylabel='mortality'>"
      ]
     },
     "execution_count": 47,
     "metadata": {},
     "output_type": "execute_result"
    },
    {
     "data": {
      "image/png": "[encoded data removed]",
      "text/plain": [
       "<Figure size 432x288 with 1 Axes>"
      ]
     },
     "metadata": {
      "needs_background": "light"
     },
     "output_type": "display_data"
    }
   ],
   "source": [
    "# Южных городов 26. Смотрим, как распределяются данные по жесткости воды и смертности для них\n",
    "# 1.1 Жесткость воды (ось x) vs уровень годовой смертности (ось y)\n",
    "southern_towns.plot(kind='scatter', x='hardness', y='mortality')"
   ]
  },
  {
   "cell_type": "code",
   "execution_count": 48,
   "id": "457174f6",
   "metadata": {},
   "outputs": [],
   "source": [
    "# Сравнивая графики распределения точек для этих двух выборок заметно, что для южных городов уровень смертности ниже \n",
    "# (хотя кажется, что \"рой\" точек висит выше, но по шкале y видно, что єти точки в среднем ниже точек для северных городов)\n",
    "# Так же видно, что для южных городов линия для регрессии будет иметь больший угол наклона и линия просматривается более явно.\n",
    "# Но в обоих случаях разброс точек довольно заметный."
   ]
  },
  {
   "cell_type": "code",
   "execution_count": 54,
   "id": "d83f7fbc",
   "metadata": {},
   "outputs": [
    {
     "name": "stdout",
     "output_type": "stream",
     "text": [
      "Юг, Пирсон =            hardness  mortality\n",
      "hardness   1.000000  -0.602153\n",
      "mortality -0.602153   1.000000\n",
      "Юг, Спирмен =            hardness  mortality\n",
      "hardness   1.000000  -0.595723\n",
      "mortality -0.595723   1.000000\n",
      "Север, Пирсон =            hardness  mortality\n",
      "hardness   1.000000  -0.368598\n",
      "mortality -0.368598   1.000000\n",
      "Север, Спирмен =            hardness  mortality\n",
      "hardness   1.000000  -0.404208\n",
      "mortality -0.404208   1.000000\n"
     ]
    }
   ],
   "source": [
    "# 1.2 Считаем коэффициенты корреляции Пирсона и Спирмена для обоих распределений\n",
    "south_pirson = southern_towns[['hardness', 'mortality']].corr()\n",
    "south_spearman = southern_towns[['hardness', 'mortality']].corr(method='spearman')\n",
    "north_pirson = northern_towns[['hardness', 'mortality']].corr()\n",
    "north_spearman = northern_towns[['hardness', 'mortality']].corr(method='spearman')\n",
    "print(f'Юг, Пирсон = {south_pirson}')\n",
    "print(f'Юг, Спирмен = {south_spearman}')\n",
    "print(f'Север, Пирсон = {north_pirson}')\n",
    "print(f'Север, Спирмен = {north_spearman}')\n",
    "# Действительно видим более ярко заметную зависимость для южных городов"
   ]
  },
  {
   "cell_type": "code",
   "execution_count": 56,
   "id": "d29c64d5",
   "metadata": {},
   "outputs": [
    {
     "name": "stdout",
     "output_type": "stream",
     "text": [
      "Южные города [-1.805185] 1506.412358227419\n",
      "Северные города [-3.03621883] 1714.073409633743\n"
     ]
    }
   ],
   "source": [
    "# 1.3 Займемся построением модели регрессии для обоих выборок\n",
    "# Будем строить регрессионную модель, которая позволит по уровню жесткости воды строить прогноз по уровню смертности\n",
    "# Поскольку в этот раз выборки еще меньше, сохраним соотношение 80 к 20 для тренировочных и тестовых данных\n",
    "# Сразу же выведем по обоим выборкам получившиеся в результате \"обучения\" коэффициенты регрессионных прямых\n",
    "X_s = southern_towns[['hardness']]\n",
    "y_s = southern_towns['mortality']\n",
    "X_s_train, X_s_test, y_s_train, y_s_test = train_test_split(X_s, y_s, test_size=0.20, random_state=1)\n",
    "mortal_w_s = LinearRegression()\n",
    "mortal_w_s.fit(X_s_train, y_s_train)\n",
    "print(\"Южные города\", mortal_w_s.coef_, mortal_w_s.intercept_)\n",
    "\n",
    "X_n = northern_towns[['hardness']]\n",
    "y_n = northern_towns['mortality']\n",
    "X_n_train, X_n_test, y_n_train, y_n_test = train_test_split(X_n, y_n, test_size=0.20, random_state=1)\n",
    "mortal_w_n = LinearRegression()\n",
    "mortal_w_n.fit(X_n_train, y_n_train)\n",
    "print(\"Северные города\", mortal_w_n.coef_, mortal_w_n.intercept_)\n",
    "\n",
    "# Неожиданно для себя увидел, что \"угол наклона\" у распределения для северных городов оказался круче, чем у южных.\n",
    "# Очевидно, это получилось за счет довольно плотной группировки северных городов в левой средней части соотв. диаграммы"
   ]
  },
  {
   "cell_type": "code",
   "execution_count": 58,
   "id": "492953a7",
   "metadata": {},
   "outputs": [
    {
     "name": "stdout",
     "output_type": "stream",
     "text": [
      "[1324. 1400. 1344. 1355. 1398. 1257.]\n",
      "[1236, 1309, 1456, 1359, 1527, 1096]\n"
     ]
    }
   ],
   "source": [
    "# Оценим точность предсказаний.\n",
    "# Вначале - южные города:\n",
    "y_s_pred = mortal_w_s.predict(X_s_test)\n",
    "print(y_s_pred.round(0))\n",
    "print(y_s_test.tolist())"
   ]
  },
  {
   "cell_type": "code",
   "execution_count": 59,
   "id": "300f3af6",
   "metadata": {},
   "outputs": [
    {
     "name": "stdout",
     "output_type": "stream",
     "text": [
      "[1438. 1580. 1684. 1499. 1653. 1486. 1696.]\n",
      "[1569, 1702, 1558, 1713, 1625, 1587, 1696]\n"
     ]
    }
   ],
   "source": [
    "# Теперь - северные города:\n",
    "y_n_pred = mortal_w_n.predict(X_n_test)\n",
    "print(y_n_pred.round(0))\n",
    "print(y_n_test.tolist())"
   ]
  },
  {
   "cell_type": "code",
   "execution_count": 60,
   "id": "c263bc9e",
   "metadata": {},
   "outputs": [],
   "source": [
    "# В обоих случаях разброс предсказанных и реальных значений не кажется идеальным, но если \"танцевать\" от абсолютных значений\n",
    "# предсказываемых чисел, то ошибка лежит в пределах 15 процентов. Наверное, лучше - так, чем \"пальцем в небо\" :)"
   ]
  },
  {
   "cell_type": "code",
   "execution_count": 63,
   "id": "d0bcbe17",
   "metadata": {},
   "outputs": [
    {
     "name": "stdout",
     "output_type": "stream",
     "text": [
      "Юг:\n",
      "0.4042268538320487\n",
      "Север:\n",
      "-2.881919491832517\n"
     ]
    }
   ],
   "source": [
    "# 1.4 Сравним коэффициенты детерминации для этих двух выборок\n",
    "print('Юг:')\n",
    "print(mortal_w_s.score(X_s_test, y_s_test))\n",
    "print('Север:')\n",
    "print(mortal_w_n.score(X_n_test, y_n_test))"
   ]
  },
  {
   "cell_type": "code",
   "execution_count": null,
   "id": "8582e02c",
   "metadata": {},
   "outputs": [],
   "source": [
    "# Коэффициент детерминации для северных городов показывает, что лучше \"пальцем в небо\", \n",
    "# а для южных городов какой-то смысл в полученной регрессионной модели есть"
   ]
  },
  {
   "cell_type": "code",
   "execution_count": 71,
   "id": "04e12158",
   "metadata": {},
   "outputs": [
    {
     "name": "stdout",
     "output_type": "stream",
     "text": [
      "Южные города\n"
     ]
    },
    {
     "data": {
      "text/plain": [
       "(array([1., 3., 2., 4., 5., 3., 1., 4., 1., 2.]),\n",
       " array([-208.50347332, -166.02688133, -123.55028934,  -81.07369736,\n",
       "         -38.59710537,    3.87948662,   46.3560786 ,   88.83267059,\n",
       "         131.30926257,  173.78585456,  216.26244655]),\n",
       " <BarContainer object of 10 artists>)"
      ]
     },
     "execution_count": 71,
     "metadata": {},
     "output_type": "execute_result"
    },
    {
     "data": {
      "image/png": "[encoded data removed]",
      "text/plain": [
       "<Figure size 432x288 with 1 Axes>"
      ]
     },
     "metadata": {
      "needs_background": "light"
     },
     "output_type": "display_data"
    }
   ],
   "source": [
    "# 1.5 Посмотрим графики остатков\n",
    "print('Южные города')\n",
    "# Вначале подсчитаем по каждому городу выборки предсказанную смертность для текущей жесткости\n",
    "y_s_all_pred = mortal_w_s.predict(X_s)\n",
    "# Считаем разность между предсказанным и реальным значениями смертности\n",
    "y_s_dif = y_s.tolist() - y_s_all_pred\n",
    "# Смотрим диаграмму распределения остатков\n",
    "plt.hist(y_s_dif)\n"
   ]
  },
  {
   "cell_type": "code",
   "execution_count": 72,
   "id": "ff262f56",
   "metadata": {},
   "outputs": [
    {
     "name": "stdout",
     "output_type": "stream",
     "text": [
      "Северные города\n"
     ]
    },
    {
     "data": {
      "text/plain": [
       "(array([3., 3., 4., 5., 4., 4., 8., 1., 2., 1.]),\n",
       " array([-227.56634594, -175.08807724, -122.60980855,  -70.13153985,\n",
       "         -17.65327115,   34.82499755,   87.30326625,  139.78153495,\n",
       "         192.25980365,  244.73807235,  297.21634105]),\n",
       " <BarContainer object of 10 artists>)"
      ]
     },
     "execution_count": 72,
     "metadata": {},
     "output_type": "execute_result"
    },
    {
     "data": {
      "image/png": "[encoded data removed]",
      "text/plain": [
       "<Figure size 432x288 with 1 Axes>"
      ]
     },
     "metadata": {
      "needs_background": "light"
     },
     "output_type": "display_data"
    }
   ],
   "source": [
    "print('Северные города')\n",
    "# Вначале подсчитаем по каждому городу выборки предсказанную смертность для текущей жесткости\n",
    "y_n_all_pred = mortal_w_n.predict(X_n)\n",
    "# Считаем разность между предсказанным и реальным значениями смертности\n",
    "y_n_dif = y_n.tolist() - y_n_all_pred\n",
    "# Смотрим диаграмму распределения остатков\n",
    "plt.hist(y_n_dif)\n"
   ]
  },
  {
   "cell_type": "code",
   "execution_count": null,
   "id": "e89ac1b8",
   "metadata": {},
   "outputs": [],
   "source": [
    "# Общий вывод по распределению остатков - сложно оценивать эффективность модели при небольшом объеме выборки,"
   ]
  }
 ],
 "metadata": {
  "kernelspec": {
   "display_name": "Python 3",
   "language": "python",
   "name": "python3"
  },
  "language_info": {
   "codemirror_mode": {
    "name": "ipython",
    "version": 3
   },
   "file_extension": ".py",
   "mimetype": "text/x-python",
   "name": "python",
   "nbconvert_exporter": "python",
   "pygments_lexer": "ipython3",
   "version": "3.8.8"
  }
 },
 "nbformat": 4,
 "nbformat_minor": 5
}
